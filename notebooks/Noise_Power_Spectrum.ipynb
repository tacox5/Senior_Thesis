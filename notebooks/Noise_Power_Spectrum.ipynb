{
 "cells": [
  {
   "cell_type": "markdown",
   "metadata": {},
   "source": [
    "# Noise Power Spectra"
   ]
  },
  {
   "cell_type": "code",
   "execution_count": 1,
   "metadata": {},
   "outputs": [],
   "source": [
    "import numpy as np\n",
    "import astropy.units as u\n",
    "from scipy.interpolate import interp1d\n",
    "import matplotlib.pyplot as plt\n",
    "import matplotlib.colors as colors\n",
    "from matplotlib.colors import SymLogNorm\n",
    "from astropy.cosmology import Planck15 as cosmo\n",
    "from twentyonecmFAST import load_binary_data\n",
    "from powerbox.powerbox import get_power\n",
    "from astropy import constants as const\n",
    "import xcorr\n",
    "import sys"
   ]
  },
  {
   "cell_type": "markdown",
   "metadata": {},
   "source": [
    "## 21cm Noise Auto Spectrum"
   ]
  },
  {
   "cell_type": "markdown",
   "metadata": {},
   "source": [
    "$$\\sigma_{21}^2 = \\left[ P_{21}\\left(k, \\mu \\right) + \\frac{T^2_{\\rm sys} V_{\\rm sur}}{B \\ t_{\\rm int} \\ n \\left(k_{\\perp}\\right)} {\\rm W}_{21}\\left(k, \\mu \\right) \\right]$$\n",
    "\n",
    "$$ {\\rm W}_{21}\\left(k, \\mu \\right) = e^{\\left(k_{\\parallel} / k_{\\parallel, \\rm res} \\right)^2 + \\left(k_{\\perp} / k_{\\perp, \\rm res} \\right)^2}$$\n",
    "\n",
    "$$k_{\\parallel, \\rm res} = \\frac{R_{\\rm res} H \\left( z\\right)}{c \\left(1 + z\\right)} = \\frac{1}{\\Delta x_{\\parallel, \\rm res}}$$\n",
    "\n",
    "Ra $R_{\\rm res} = \\nu_{21} \\left( z \\right) / \\nu_{\\rm res}$\n",
    "\n",
    "$$k_{\\perp, \\rm res} = \\frac{1}{\\chi \\left( z \\right) \\theta_{\\rm min}} = \\frac{1}{\\Delta x_{\\perp, \\rm res}}$$\n",
    "\n",
    "Here's some text\n",
    "\n",
    "$$\\theta_{\\rm min} = \\left( x_{\\rm pix} / 60 \\right) \\left(\\pi / 180 \\right)$$\n",
    "\n",
    "Here's some text\n",
    "\n",
    "$$x_{\\rm pix} = \\lambda_{21} \\left( z \\right) / l_{\\rm max}$$"
   ]
  },
  {
   "cell_type": "markdown",
   "metadata": {},
   "source": [
    "Reasonable estimates for HERA: $T_{\\rm sys} \\approx 200 \\ {\\rm K}$, $B = 8 \\ {\\rm MHz}$, $t_{\\rm int} = 1000 \\ {\\rm hr}$"
   ]
  },
  {
   "cell_type": "code",
   "execution_count": 2,
   "metadata": {},
   "outputs": [],
   "source": [
    "c = 3e8 * u.m / u.second"
   ]
  },
  {
   "cell_type": "code",
   "execution_count": 3,
   "metadata": {},
   "outputs": [],
   "source": [
    "def variance_21cm(P, k_perp, k_par, z):\n",
    "    return (P + W_21(k_perp, k_par, z) * therm(z))\n",
    "\n",
    "def W_21(k_perp, k_par, z):\n",
    "    return np.exp((k_par / k_par_res(z).value) ** 2 + (k_perp / k_perp_res(z).value) ** 2)\n",
    "\n",
    "\n",
    "def therm(z, Tsys = 400 * u.K, B = 8 * u.MHz, t_int = 1000 * u.hr, n = 0.8):\n",
    "    \"\"\"Thermal noise component\n",
    "    \"\"\"\n",
    "    return (V_sur(z) * Tsys ** 2 / (B * t_int * n)).to(u.Mpc ** 3 * u.mK ** 2)\n",
    "\n",
    "\"\"\"\n",
    "Parallel Mode Resolution\n",
    "\"\"\"\n",
    "\n",
    "def k_par_res(z):\n",
    "    return 2 * np.pi * (R_res(z) * cosmo.H(z) / (c * (1 + z))).to(u.Mpc ** -1)\n",
    "\n",
    "def R_res(z, nu_res = 3.9e3):\n",
    "    \"\"\"\n",
    "    \"\"\"\n",
    "    return ((1420 * u.MHz) / ((1 + z) * (nu_res * u.Hz))).to(u.dimensionless_unscaled)\n",
    "\n",
    "\n",
    "\"\"\"\n",
    "Perpendicular Mode Resolution\n",
    "\"\"\"\n",
    "\n",
    "def k_perp_res(z):\n",
    "    return 2 * np.pi / (cosmo.comoving_distance(z) * theta_min(z))\n",
    "\n",
    "def theta_min(z):\n",
    "    '''\n",
    "    Theta\n",
    "    '''\n",
    "    def x_pix(z, l_max = 1e5):\n",
    "        '''\n",
    "        Parameters:\n",
    "            z: (float)\n",
    "                redshift\n",
    "            l_max: (float)\n",
    "                Maximum baseline length\n",
    "\n",
    "        Returns \n",
    "        '''\n",
    "        l_21 = 21 * u.cm\n",
    "        return (l_21 * (z + 1) / (l_max * u.cm)) * (np.pi / 180) / 60.\n",
    "    \n",
    "    return x_pix(z)\n"
   ]
  },
  {
   "cell_type": "code",
   "execution_count": 4,
   "metadata": {},
   "outputs": [],
   "source": [
    "def N_m(z):\n",
    "    return V_sur(z) * d_k * d_mu * k ** 2 / (4 * np.pi)\n",
    "\n",
    "def A_eff(D, ants = 350):\n",
    "    return ants * np.pi * (D ** 2.0) / 4\n",
    "\n",
    "def V_sur(z, A = 925 * u.m ** 2):\n",
    "    l_21 = (21.1 * u.cm) * (1 + z)\n",
    "    return (cosmo.comoving_distance(z) ** 2 * survey_depth(z) * (l_21 ** 2.0 / A) ** 2).to(u.Mpc ** 3)\n",
    "\n",
    "\n",
    "def survey_depth(z, B = 8 * u.MHz):\n",
    "    \"\"\"1708.06291.pdf\n",
    "    \"\"\"\n",
    "    return 1.7 * (B / (0.1 * u.MHz)) * ((1 + z) / 10) ** 0.5 * (cosmo.Om(z) * cosmo.h ** 2 / 0.15) ** -2 * u.Mpc"
   ]
  },
  {
   "cell_type": "code",
   "execution_count": 6,
   "metadata": {},
   "outputs": [],
   "source": [
    "z = 7.04"
   ]
  },
  {
   "cell_type": "code",
   "execution_count": 15,
   "metadata": {},
   "outputs": [
    {
     "data": {
      "text/latex": [
       "$1006683.6 \\; \\mathrm{Mpc^{3}}$"
      ],
      "text/plain": [
       "<Quantity 1006683.57020235 Mpc3>"
      ]
     },
     "execution_count": 15,
     "metadata": {},
     "output_type": "execute_result"
    }
   ],
   "source": [
    "V_sur(z) * 100."
   ]
  },
  {
   "cell_type": "markdown",
   "metadata": {},
   "source": [
    "## Ly$\\alpha$ Noise Auto Spectrum"
   ]
  },
  {
   "cell_type": "markdown",
   "metadata": {},
   "source": [
    "## 21cm-Ly$\\alpha$ Cross-Power Spectrum Variance"
   ]
  },
  {
   "cell_type": "markdown",
   "metadata": {},
   "source": [
    "$$\\sigma_{21,{\\rm Ly}\\alpha}^2 \\left(k, \\mu \\right) = \\frac{1}{2}\\left[ P_{21,{\\rm Ly}\\alpha}^2 \\left(k, \\mu \\right) + \\sigma_{21} \\left(k, \\mu \\right) \\sigma_{\\rm Ly \\alpha} \\left(k, \\mu \\right) \\right]$$"
   ]
  },
  {
   "cell_type": "code",
   "execution_count": 8,
   "metadata": {},
   "outputs": [],
   "source": [
    "z = 7.04"
   ]
  },
  {
   "cell_type": "code",
   "execution_count": 9,
   "metadata": {},
   "outputs": [],
   "source": [
    "temp_21 = load_binary_data('../../data/delta_T_v3_z007.04_nf0.233584_useTs1_256_200Mpc')\n",
    "temp_21 = np.reshape(temp_21, (256,256,256))"
   ]
  },
  {
   "cell_type": "code",
   "execution_count": 10,
   "metadata": {},
   "outputs": [],
   "source": [
    "ps, k = xcorr.dimensional_ps(temp_21, 200, log_bins = True, bins = 14)\n",
    "ps_2d, k_perp, k_par = xcorr.get_power(temp_21, 200, log_bins = True, bins = 14, res_ndim = 2)\n",
    "scaled_ps = temp_21.mean() ** 2 * u.mK ** 2 * u.Mpc ** 3 * ps_2d"
   ]
  },
  {
   "cell_type": "code",
   "execution_count": 11,
   "metadata": {},
   "outputs": [],
   "source": [
    "sig_v = variance_21cm(scaled_ps, k_perp[:, np.newaxis], k_par, z)"
   ]
  },
  {
   "cell_type": "code",
   "execution_count": 12,
   "metadata": {},
   "outputs": [
    {
     "name": "stderr",
     "output_type": "stream",
     "text": [
      "/usr/local/lib/python3.7/site-packages/ipykernel_launcher.py:10: RuntimeWarning: divide by zero encountered in double_scalars\n",
      "  # Remove the CWD from sys.path while we load stuff.\n"
     ]
    }
   ],
   "source": [
    "kpar, kperp = np.meshgrid(k_par, k_perp)\n",
    "k_vals = np.sqrt(kpar ** 2 + kperp ** 2)\n",
    "k_bins = np.logspace(np.log10(k_vals.min()), np.log10(k_vals.max()), 14)\n",
    "idx = np.digitize(k_vals, k_bins, right = True)\n",
    "\n",
    "p_calc = np.zeros((14))\n",
    "\n",
    "for i in np.arange(14):\n",
    "    i1, i2 = np.where(idx == i)\n",
    "    p_calc[i] = 1.0 / np.sum(sig_v[i1, i2].shape[0] / (sig_v[i1, i2].value))"
   ]
  },
  {
   "cell_type": "code",
   "execution_count": 13,
   "metadata": {},
   "outputs": [
    {
     "data": {
      "image/png": "[encoded data removed]",
      "text/plain": [
       "<Figure size 720x432 with 1 Axes>"
      ]
     },
     "metadata": {
      "needs_background": "light"
     },
     "output_type": "display_data"
    }
   ],
   "source": [
    "plt.figure(figsize=(10,6))\n",
    "plt.scatter(k, k ** 3 / (2 * np.pi ** 2) * p_calc)\n",
    "plt.xscale('log')\n",
    "plt.yscale('log')\n",
    "plt.show()"
   ]
  },
  {
   "cell_type": "code",
   "execution_count": 32,
   "metadata": {},
   "outputs": [
    {
     "data": {
      "image/png": "[encoded data removed]",
      "text/plain": [
       "<Figure size 720x432 with 1 Axes>"
      ]
     },
     "metadata": {
      "needs_background": "light"
     },
     "output_type": "display_data"
    }
   ],
   "source": [
    "plt.figure(figsize=(10,6))\n",
    "plt.errorbar(k, ps, yerr = k ** 3 / (2 * np.pi ** 2) * p_calc, fmt = 'o',\n",
    "             ecolor = 'black', barsabove = True, markersize=8, capsize=4)\n",
    "plt.scatter(k, k ** 3 / (2 * np.pi ** 2) * p_calc, color = 'red')\n",
    "plt.xscale('log')\n",
    "plt.yscale('log')\n",
    "plt.ylim([1e-10, 1e10])\n",
    "plt.xlabel('k [Mpc$^{-1}$]', fontsize = 16)\n",
    "plt.ylabel(r'$\\Delta^2_{21,\\rm{Ly} \\alpha} (\\rm k)$ [mK$^2$]', fontsize = 16)\n",
    "plt.show()"
   ]
  },
  {
   "cell_type": "code",
   "execution_count": 184,
   "metadata": {},
   "outputs": [
    {
     "data": {
      "image/png": "[encoded data removed]",
      "text/plain": [
       "<Figure size 720x432 with 1 Axes>"
      ]
     },
     "metadata": {
      "needs_background": "light"
     },
     "output_type": "display_data"
    }
   ],
   "source": [
    "plt.figure(figsize=(10,6))\n",
    "plt.scatter(k, ps / (k ** 3 / (2 * np.pi ** 2) * p_calc))\n",
    "plt.plot(k, ps / (k ** 3 / (2 * np.pi ** 2) * p_calc), alpha = 0)\n",
    "plt.xscale('log')\n",
    "plt.yscale('log')\n",
    "plt.show()"
   ]
  }
 ],
 "metadata": {
  "kernelspec": {
   "display_name": "Python 3",
   "language": "python",
   "name": "python3"
  },
  "language_info": {
   "codemirror_mode": {
    "name": "ipython",
    "version": 3
   },
   "file_extension": ".py",
   "mimetype": "text/x-python",
   "name": "python",
   "nbconvert_exporter": "python",
   "pygments_lexer": "ipython3",
   "version": "3.7.3"
  }
 },
 "nbformat": 4,
 "nbformat_minor": 2
}
