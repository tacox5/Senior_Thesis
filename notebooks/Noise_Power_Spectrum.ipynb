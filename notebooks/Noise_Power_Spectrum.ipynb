{
 "cells": [
  {
   "cell_type": "markdown",
   "metadata": {},
   "source": [
    "# Noise Power Spectra"
   ]
  },
  {
   "cell_type": "code",
   "execution_count": 17,
   "metadata": {},
   "outputs": [],
   "source": [
    "import numpy as np\n",
    "import astropy.units as u\n",
    "from scipy.interpolate import interp1d\n",
    "import matplotlib.pyplot as plt\n",
    "import matplotlib.colors as colors\n",
    "from matplotlib.colors import SymLogNorm\n",
    "from astropy.cosmology import Planck15 as cosmo\n",
    "from twentyonecmFAST import load_binary_data\n",
    "from powerbox.powerbox import get_power\n",
    "from astropy import constants as const\n",
    "import sys"
   ]
  },
  {
   "cell_type": "markdown",
   "metadata": {},
   "source": [
    "## 21cm Noise Auto Spectrum"
   ]
  },
  {
   "cell_type": "markdown",
   "metadata": {},
   "source": [
    "$$\\sigma_{21}^2 = \\left[ P_{21}\\left(k, \\mu \\right) + \\frac{T^2_{\\rm sys} V_{\\rm sur}}{B \\ t_{\\rm int} \\ n \\left(k_{\\perp}\\right)} {\\rm W}_{21}\\left(k, \\mu \\right) \\right]$$\n",
    "\n",
    "$$ {\\rm W}_{21}\\left(k, \\mu \\right) = e^{\\left(k_{\\parallel} / k_{\\parallel, \\rm res} \\right)^2 + \\left(k_{\\perp} / k_{\\perp, \\rm res} \\right)^2}$$\n",
    "\n",
    "The parallel modes and perpendicular modes can be determine with $k_{\\parallel} = \\mu k$ and $k_{\\perp} = \\left( 1 - \\mu^2 \\right)^{1/2} k$\n",
    "\n",
    "$$k_{\\parallel, \\rm res} = \\frac{R_{\\rm res} H \\left( z\\right)}{c \\left(1 + z\\right)} = \\frac{1}{\\Delta x_{\\parallel, \\rm res}}$$\n",
    "\n",
    "Ra $R_{\\rm res} = \\nu_{21} \\left( z \\right) / \\nu_{\\rm res}$\n",
    "\n",
    "$$k_{\\perp, \\rm res} = \\frac{1}{\\chi \\left( z \\right) \\theta_{\\rm min}} = \\frac{1}{\\Delta x_{\\perp, \\rm res}}$$\n",
    "\n",
    "Here's some text\n",
    "\n",
    "$$\\theta_{\\rm min} = \\left( x_{\\rm pix} / 60 \\right) \\left(\\pi / 180 \\right)$$\n",
    "\n",
    "Here's some text\n",
    "\n",
    "$$x_{\\rm pix} = \\lambda_{21} \\left( z \\right) / l_{\\rm max}$$"
   ]
  },
  {
   "cell_type": "markdown",
   "metadata": {},
   "source": [
    "Reasonable estimates for HERA: $T_{\\rm sys} \\approx 200 \\ {\\rm K}$, $B = 8 \\ {\\rm MHz}$, $t_{\\rm int} = 1000 \\ {\\rm hr}$"
   ]
  },
  {
   "cell_type": "code",
   "execution_count": 2,
   "metadata": {},
   "outputs": [],
   "source": [
    "c = 3e8 * u.m / u.second"
   ]
  },
  {
   "cell_type": "code",
   "execution_count": 3,
   "metadata": {},
   "outputs": [],
   "source": [
    "def variance_21cm(P, z):\n",
    "    return (P ** 2 + W)\n",
    "\n",
    "def W_21(z):\n",
    "    return np.exp((k_par / k_par_res(z).value) ** 2 + (k_perp / k_perp_res(z).value) ** 2)\n",
    "\n",
    "def k_perp(k, mu):\n",
    "    return k * mu\n",
    "\n",
    "def k_par(k, mu):\n",
    "    return (1 - mu**2)**(1.0/2.0) * k\n",
    "\n",
    "\n",
    "\"\"\"\n",
    "Parallel Mode Resolution\n",
    "\"\"\"\n",
    "\n",
    "def k_par_res(z):\n",
    "    return 2 * np.pi * (R_res(z) * cosmo.H(z) / (c * (1 + z))).to(u.Mpc ** -1)\n",
    "\n",
    "def R_res(z, nu_res = 3.9e3):\n",
    "    \"\"\"\n",
    "    \"\"\"\n",
    "    return ((1420 * u.MHz) / ((1 + z) * (nu_res * u.Hz))).to(u.dimensionless_unscaled)\n",
    "\n",
    "\n",
    "\"\"\"\n",
    "Perpendicular Mode Resolution\n",
    "\"\"\"\n",
    "\n",
    "def k_perp_res(z):\n",
    "    return 2 * np.pi / (cosmo.comoving_distance(z) * theta_min(z))\n",
    "\n",
    "def theta_min(z):\n",
    "    '''\n",
    "    Theta\n",
    "    '''\n",
    "    def x_pix(z, l_max = 1e5):\n",
    "        '''\n",
    "        Parameters:\n",
    "            z: (float)\n",
    "                redshift\n",
    "            l_max: (float)\n",
    "                Maximum baseline length\n",
    "\n",
    "        Returns \n",
    "        '''\n",
    "        l_21 = 21 * u.cm\n",
    "        return (l_21 * (z + 1) / (l_max * u.cm)) * (np.pi / 180) / 60.\n",
    "    \n",
    "    return x_pix(z)"
   ]
  },
  {
   "cell_type": "code",
   "execution_count": 4,
   "metadata": {},
   "outputs": [],
   "source": [
    "def N_m(z):\n",
    "    return V_sur(z) * d_k * d_mu * k ** 2 / (4 * np.pi)\n",
    "\n",
    "def A_eff(D, ants = 350):\n",
    "    return ants * np.pi * (D ** 2.0) / 4\n",
    "\n",
    "def V_sur(z):\n",
    "    l_21 = (21.1 * u.cm) * (1 + z)\n",
    "    return cosmo.comoving_distance(z) ** 2 * survey_depth * (l_21 ** 2.0 / A_eff(z)) ** 2.0"
   ]
  },
  {
   "cell_type": "markdown",
   "metadata": {},
   "source": [
    "## Ly$\\alpha$ Noise Auto Spectrum"
   ]
  },
  {
   "cell_type": "markdown",
   "metadata": {},
   "source": [
    "## 21cm-Ly$\\alpha$ Cross-Power Spectrum Variance"
   ]
  },
  {
   "cell_type": "markdown",
   "metadata": {},
   "source": [
    "$$\\sigma_{21,{\\rm Ly}\\alpha}^2 \\left(k, \\mu \\right) = \\frac{1}{2}\\left[ P_{21,{\\rm Ly}\\alpha}^2 \\left(k, \\mu \\right) + \\sigma_{21} \\left(k, \\mu \\right) \\sigma_{\\rm Ly \\alpha} \\left(k, \\mu \\right) \\right]$$"
   ]
  },
  {
   "cell_type": "code",
   "execution_count": null,
   "metadata": {},
   "outputs": [],
   "source": []
  }
 ],
 "metadata": {
  "kernelspec": {
   "display_name": "Python 3",
   "language": "python",
   "name": "python3"
  },
  "language_info": {
   "codemirror_mode": {
    "name": "ipython",
    "version": 3
   },
   "file_extension": ".py",
   "mimetype": "text/x-python",
   "name": "python",
   "nbconvert_exporter": "python",
   "pygments_lexer": "ipython3",
   "version": "3.7.3"
  }
 },
 "nbformat": 4,
 "nbformat_minor": 2
}
