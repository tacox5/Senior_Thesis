{
 "cells": [
  {
   "cell_type": "markdown",
   "metadata": {},
   "source": [
    "# Ly$\\alpha$ Luminosities"
   ]
  },
  {
   "cell_type": "code",
   "execution_count": 1,
   "metadata": {
    "ExecuteTime": {
     "end_time": "2020-02-04T17:51:57.251420Z",
     "start_time": "2020-02-04T17:51:56.086827Z"
    }
   },
   "outputs": [],
   "source": [
    "import sys\n",
    "import glob\n",
    "import numpy as np\n",
    "import astropy.units as u\n",
    "from scipy.interpolate import interp1d\n",
    "import matplotlib.pyplot as plt\n",
    "import matplotlib\n",
    "from matplotlib.colors import SymLogNorm\n",
    "from astropy.cosmology import Planck15 as cosmo\n",
    "from astropy import constants as const\n",
    "from powerbox import get_power\n",
    "from hmf import MassFunction\n",
    "from xcorr import load_binary_data\n",
    "import sys\n",
    "from scipy.ndimage.filters import gaussian_filter\n",
    "import xcorr\n",
    "\n",
    "plt.rc('font', family='serif')"
   ]
  },
  {
   "cell_type": "markdown",
   "metadata": {},
   "source": [
    "## Helpful Functions"
   ]
  },
  {
   "cell_type": "code",
   "execution_count": 278,
   "metadata": {},
   "outputs": [],
   "source": [
    "def star_formation_rate(M, z = 7, sim_num = 1):\n",
    "    '''\n",
    "    Returns the star-formation rate for a dark-matter halo of a given mass and redshift\n",
    "    \n",
    "    Units: M_sun per year\n",
    "    \n",
    "    \n",
    "    Note: Zero-out redshift for now. Other versions of this equation use redshift but the current\n",
    "          sim that I am basing this equation off of does not use redshift.\n",
    "    \n",
    "    https://arxiv.org/pdf/1205.1493.pdf\n",
    "    \n",
    "    '''\n",
    "\n",
    "    if sim_num == 1:\n",
    "        a, b, d, c1, c2 = 2.8, -0.94, -1.7, 1e9, 7e10\n",
    "        sfr = 2.8e-28 * (M ** a) * (1.0 + M / c1) ** b * (1.0 + M / c2) ** d\n",
    "        \n",
    "    if sim_num == 2:\n",
    "        a, b, d, e, c1, c2, c3 = 2.59, -0.62, 0.4, -2.25, 8e8, 7e9, 1e11\n",
    "        sfr = 1.6e-26 * (M ** a) * (1.0 + M / c1) ** b * (1.0 + M / c2) ** d * (1.0 + M / c3) ** e\n",
    "        \n",
    "    if sim_num == 3:\n",
    "        a, b, d, e, c1, c2, c3 = 2.59, -0.62, 0.4, -2.25, 8e8, 7e9, 1e11\n",
    "        sfr = 2.25e-26 * (1.0 + 0.075 * (z-7)) * (M ** a) * (1.0 + M / c1) ** b * (1.0 + M / c2) ** d * (1.0 + M / c3) ** e\n",
    "    \n",
    "    return sfr * u.M_sun / u.year"
   ]
  },
  {
   "cell_type": "code",
   "execution_count": 6,
   "metadata": {
    "ExecuteTime": {
     "end_time": "2020-02-04T17:52:17.133317Z",
     "start_time": "2020-02-04T17:52:17.118294Z"
    }
   },
   "outputs": [],
   "source": [
    "def f_lya(z, C_dust = 3.34, zeta = 2.57):\n",
    "    '''\n",
    "    Fraction of lyman-alpha photons not absorbed by dust\n",
    "    \n",
    "    https://arxiv.org/pdf/1010.4796.pdf\n",
    "    '''\n",
    "    return C_dust * 1e-3 * (1.0 + z) ** zeta\n",
    "\n",
    "def f_esc(M,z):\n",
    "    '''\n",
    "    Escape fraction of ionizing photons\n",
    "    '''\n",
    "    def alpha(z):\n",
    "        '''\n",
    "        Alpha/beta values found in:\n",
    "\n",
    "        https://arxiv.org/pdf/0903.2045.pdf\n",
    "        '''\n",
    "        zs = np.array([10.4,8.2,6.7,5.7,5.0,4.4])\n",
    "        a = np.array([2.78e-2, 1.30e-2, 5.18e-3, 3.42e-3, 6.68e-5, 4.44e-5])\n",
    "        b = np.array([0.105, 0.179, 0.244, 0.262, 0.431, 0.454])\n",
    "        fa = interp1d(zs, a, kind = 'cubic')\n",
    "        fb = interp1d(zs, b, kind = 'cubic')\n",
    "        return (fa(z), fb(z))\n",
    "    \n",
    "    a, b = alpha(z)\n",
    "    return np.exp(-a * M ** b)\n",
    "\n",
    "def L_gal_rec(M, z, sim_num = 1):\n",
    "    \"\"\"\n",
    "    Luminosity due to galactic recombinations\n",
    "    \"\"\"\n",
    "    sf_rate = star_formation_rate(M, z = z, sim_num = sim_num)\n",
    "    return 1.55e42 * (1 - f_esc(M, z)) * f_lya(z) * sf_rate * u.erg / u.s * u.year / u.Msun\n",
    "\n",
    "def L_gal_exc(M, z, sim_num = 1):\n",
    "    \"\"\"\n",
    "    Luminosity due to galactic excitations\n",
    "    \"\"\"\n",
    "    sf_rate = star_formation_rate(M, z = z, sim_num = sim_num)\n",
    "    return 4.03e41 * f_lya(z) * (1 - f_esc(M, z)) * sf_rate * u.erg / u.s * u.year / u.Msun\n",
    "\n",
    "def L_gal(M, z, sim_num = 1):\n",
    "    return L_gal_exc(M, z, sim_num = sim_num) + L_gal_rec(M, z, sim_num = sim_num)\n",
    "\n",
    "\n",
    "def big_I(M, z, n = 256.):\n",
    "    c = y(z) * cosmo.comoving_transverse_distance(z) ** 2 / (4 * np.pi * cosmo.luminosity_distance(z) ** 2)\n",
    "    L_val = L_gal(M, z)\n",
    "    V = (200. * u.Mpc / n) ** 3\n",
    "    nu = 2.47e15 / u.s / (1 + z)\n",
    "    return (nu * c * L_val / V).to(u.erg / u.cm ** 2 / u.s)"
   ]
  },
  {
   "cell_type": "code",
   "execution_count": 82,
   "metadata": {
    "ExecuteTime": {
     "end_time": "2020-02-04T18:13:58.681239Z",
     "start_time": "2020-02-04T18:13:58.674754Z"
    }
   },
   "outputs": [],
   "source": [
    "def imshow(data, figsize = (7, 7), color_bar = True):\n",
    "    plt.figure(figsize=figsize)\n",
    "    plt.imshow(data[:, :, 128])\n",
    "    if color_bar:\n",
    "        plt.colorbar()\n",
    "    plt.show()"
   ]
  },
  {
   "cell_type": "code",
   "execution_count": 8,
   "metadata": {
    "ExecuteTime": {
     "end_time": "2020-02-04T17:52:17.990554Z",
     "start_time": "2020-02-04T17:52:17.978692Z"
    }
   },
   "outputs": [],
   "source": [
    "def H(z):\n",
    "    '''\n",
    "    Returns astropy Hubble constant at given redshift\n",
    "    \n",
    "    Units: km Mpc^-1 s^-1\n",
    "    '''\n",
    "    return cosmo.H(z)\n",
    "\n",
    "def y(z):\n",
    "    '''\n",
    "    wl_lya -> Lyman-alpha wavelength in units of km\n",
    "    \n",
    "    Returns value in units of Mpc s\n",
    "    '''\n",
    "    l_lya = 1.215e-7 * u.m \n",
    "    return l_lya * (1.0 + z) ** 2 / H(z)\n",
    "\n",
    "def I(z, L = L_gal, n = 5000, sim_num = 1):\n",
    "    \"\"\" Mean Lyman Alpha Intensity\n",
    "    \"\"\"\n",
    "    dlog10m = (13 - 8.) / n\n",
    "    c = y(z) * cosmo.comoving_transverse_distance(z) ** 2 / (4 * np.pi * cosmo.luminosity_distance(z) ** 2)\n",
    "    h = MassFunction(z = z, Mmin = 8, Mmax = 13, hmf_model = 'SMT', dlog10m = dlog10m)\n",
    "    M = h.m * cosmo.h\n",
    "    dM = np.diff(M)\n",
    "    nu = 2.47e15 / u.s / (1 + z)\n",
    "    dndm = h.dndm[1:] * u.Mpc ** -3\n",
    "    nu_I = nu * np.sum(dndm * dM * L(M[1:], z, sim_num = sim_num) * c)\n",
    "    return nu_I.to(u.erg / u.cm ** 2 / u.s)\n",
    "    \n",
    "def cube_3d_I(M, z, L = L_gal, n = 256):\n",
    "    lya_field = np.zeros((n, n, n))\n",
    "    I_vals = big_I(M, z, n = n).value\n",
    "    lya_field[halo_pos[:, 0], halo_pos[:, 1], halo_pos[:, 2]] += I_vals\n",
    "    return lya_field"
   ]
  },
  {
   "cell_type": "code",
   "execution_count": 9,
   "metadata": {
    "ExecuteTime": {
     "end_time": "2020-02-04T17:52:19.236967Z",
     "start_time": "2020-02-04T17:52:19.230024Z"
    }
   },
   "outputs": [],
   "source": [
    "def I_21(T, z):\n",
    "    \"\"\"\n",
    "    Convert mean brightness temperature to a surface brightness\n",
    "    \"\"\"\n",
    "    nu = 1420 * u.MHz / (z + 1)\n",
    "    I = 2. * const.h * nu ** 3 / const.c ** 2 * 1.0 / (np.exp(const.h * nu / (const.k_B * T)) - 1)\n",
    "    return (nu * I).to(u.erg / u.cm ** 2 / u.s)"
   ]
  },
  {
   "cell_type": "code",
   "execution_count": 283,
   "metadata": {},
   "outputs": [],
   "source": [
    "z = 7.2\n",
    "halos = np.loadtxt('../../data/halos_z7.20_768_200Mpc')\n",
    "halo_pos = (halos[:, 1:] * 256).astype(int)\n",
    "halo_mass = halos[:, 0]\n",
    "idx = np.where(halo_pos[:, 2] == 127)[0]\n",
    "lya_cube = cube_3d_I(halo_mass, z)"
   ]
  },
  {
   "cell_type": "code",
   "execution_count": null,
   "metadata": {},
   "outputs": [],
   "source": [
    "ps_Lya, k_Lya = get_power(lya_cube, 200, bins = 14, log_bins = True)\n",
    "nu_I = I(z)"
   ]
  },
  {
   "cell_type": "code",
   "execution_count": null,
   "metadata": {},
   "outputs": [],
   "source": [
    "f = '../../data/delta_T_v3_z007.20_nf0.283460_useTs1_256_200Mpc'\n",
    "data_cube = load_binary_data(f)\n",
    "dc = data_cube.reshape((256,256,256))"
   ]
  },
  {
   "cell_type": "code",
   "execution_count": null,
   "metadata": {},
   "outputs": [],
   "source": [
    "ps_21, k_21, var = get_power(dc, 200, bins = 14, \n",
    "                        log_bins = True, dimensionless = True, get_variance=True)\n",
    "\n",
    "delta = k_21 ** 3 * ps_21 / (2 * np.pi ** 2)\n",
    "delta_dim = I_21(dc.mean() * u.mK, z) ** 2 * delta"
   ]
  },
  {
   "cell_type": "code",
   "execution_count": null,
   "metadata": {},
   "outputs": [],
   "source": [
    "plt.figure(figsize=(10,6))\n",
    "plt.errorbar(k_21, k_21 ** 3 * ps_21, yerr = k_21 ** 3 * np.sqrt(var), color = 'lightblue', ecolor = 'k',\n",
    "             fmt = 'o', capsize=2, elinewidth=1)\n",
    "plt.xscale('log')\n",
    "plt.yscale('log')\n",
    "plt.ylim([10, 1e4])\n",
    "plt.show()"
   ]
  },
  {
   "cell_type": "code",
   "execution_count": null,
   "metadata": {},
   "outputs": [],
   "source": [
    "x_power, k = get_power(lya_cube, 200, deltax2 = dc, dimensionless=True,\n",
    "                       log_bins = True, bins = 14)\n",
    "delta_x = k ** 3 * x_power / (2 * np.pi ** 2)\n",
    "delta_dim_x = I_21(dc.mean() * u.mK, z) * nu_I * delta_x"
   ]
  },
  {
   "cell_type": "code",
   "execution_count": null,
   "metadata": {},
   "outputs": [],
   "source": [
    "delta_lya = nu_I ** 2 * ps_Lya * k_Lya ** 3 / (2 * np.pi ** 2)"
   ]
  },
  {
   "cell_type": "code",
   "execution_count": null,
   "metadata": {},
   "outputs": [],
   "source": [
    "#np.save('ccc_{}'.format(z), np.array(delta_dim_x / np.sqrt(delta_dim * delta_lya)))"
   ]
  },
  {
   "cell_type": "code",
   "execution_count": null,
   "metadata": {},
   "outputs": [],
   "source": [
    "plt.figure(figsize = (10,6))\n",
    "plt.scatter(k, delta_dim_x / np.sqrt(delta_dim * delta_lya), color = 'darkorange')\n",
    "plt.ylim([-1, 1.5])\n",
    "plt.xlabel('k [Mpc$^{-1}$]')\n",
    "plt.ylabel(r'$\\Delta ({\\rm k})$ [erg/s/cm$^2$/sr]')\n",
    "plt.xscale('log')\n",
    "plt.grid()\n",
    "plt.show()"
   ]
  },
  {
   "cell_type": "markdown",
   "metadata": {},
   "source": [
    "## Diffuse IGM Emission"
   ]
  },
  {
   "cell_type": "code",
   "execution_count": 71,
   "metadata": {
    "ExecuteTime": {
     "end_time": "2020-02-04T18:09:49.330776Z",
     "start_time": "2020-02-04T18:09:49.317109Z"
    }
   },
   "outputs": [],
   "source": [
    "def n_rec_dot(T_k, x, delta_x, z):\n",
    "    \"\"\"\n",
    "    \"\"\"\n",
    "    return alpha(T_k, z) * n_e(x, delta_x, z) * n_HII(x, delta_x, z)\n",
    "\n",
    "def n_e(x, delta_x, z):\n",
    "    \"\"\"\n",
    "    \"\"\"\n",
    "    return x * n_b(delta_x, z)\n",
    "\n",
    "def n_HII(x, delta_x, z, Y_He = 0.24):\n",
    "    \"\"\"\n",
    "    \"\"\"\n",
    "    return n_e(x, delta_x, z) * (4. - 4. * Y_He) / (4. - 3 * Y_He)\n",
    "\n",
    "def n_b(delta_x, z, n_b0 = 1.905e-7 * u.cm ** -3):\n",
    "    \"\"\"\n",
    "    \"\"\"\n",
    "    return n_b0 * (1. + delta_x) #* (1 + z) ** 3\n",
    "\n",
    "\n",
    "def alpha(T_k, z):\n",
    "    \"\"\"\n",
    "    Recombination coefficient\n",
    "    \"\"\"\n",
    "    units = u.cm ** 3 / u.s\n",
    "    return 4.2e-13 * (T_k / 2e4) ** -0.7 * (1 + z) ** 3 * units\n",
    "\n",
    "def L_diffuse(T_k, x, delta_x, z, f_rec = 0.66):\n",
    "    \"\"\"\n",
    "    \"\"\"\n",
    "    E_lya = 1.637e-11 * u.erg\n",
    "    return f_rec * n_rec_dot(T_k, x, delta_x, z) * E_lya\n",
    "\n",
    "def I_diffuse(T_k, x, delta_x, z):\n",
    "    \"\"\"\n",
    "    \"\"\"\n",
    "    c = y(z) * cosmo.comoving_transverse_distance(z) ** 2 / (4 * np.pi * cosmo.luminosity_distance(z) ** 2)\n",
    "    nu = 2.47e15 / u.s / (1 + z)\n",
    "    return (L_diffuse(T_k, x, delta_x, z) * c * nu).to(u.erg / u.cm ** 2 / u.s)"
   ]
  },
  {
   "cell_type": "code",
   "execution_count": 72,
   "metadata": {
    "ExecuteTime": {
     "end_time": "2020-02-04T18:09:50.288016Z",
     "start_time": "2020-02-04T18:09:49.974366Z"
    }
   },
   "outputs": [],
   "source": [
    "delta_x = load_binary_data('../../data/updated_smoothed_deltax_z007.04_256_200Mpc')\n",
    "delta_x = np.reshape(delta_x, (256, 256, 256))\n",
    "\n",
    "x_i = load_binary_data('../../data/xH_z007.04_nf0.233584_Fstar0.0500_starPL0.5000_Fesc0.1000_escPL-0.5000_Mturn5.00e+08_HIIfilter1_RHIImax50_256_200Mpc')\n",
    "x_i = np.reshape(x_i, (256, 256, 256))\n",
    "\n",
    "lya_cube = np.load('../../data/lyman_alpha_cube_6.0.npy')\n",
    "\n",
    "f = '../../data/delta_T_v3_z007.04_nf0.233584_useTs1_256_200Mpc'\n",
    "data_cube = load_binary_data(f)\n",
    "dc = data_cube.reshape((256,256,256))"
   ]
  },
  {
   "cell_type": "code",
   "execution_count": 79,
   "metadata": {
    "ExecuteTime": {
     "end_time": "2020-02-04T18:10:13.816757Z",
     "start_time": "2020-02-04T18:10:13.170314Z"
    }
   },
   "outputs": [],
   "source": [
    "diff_cube = I_diffuse(5e3, 1.0 - x_i, delta_x, z = 7.06)"
   ]
  },
  {
   "cell_type": "code",
   "execution_count": 80,
   "metadata": {
    "ExecuteTime": {
     "end_time": "2020-02-04T18:10:13.837837Z",
     "start_time": "2020-02-04T18:10:13.820050Z"
    }
   },
   "outputs": [
    {
     "data": {
      "text/latex": [
       "$2.6202311 \\times 10^{-9} \\; \\mathrm{\\frac{erg}{s\\,cm^{2}}}$"
      ],
      "text/plain": [
       "<Quantity 2.6202311e-09 erg / (cm2 s)>"
      ]
     },
     "execution_count": 80,
     "metadata": {},
     "output_type": "execute_result"
    }
   ],
   "source": [
    "diff_cube.mean()"
   ]
  },
  {
   "cell_type": "code",
   "execution_count": 86,
   "metadata": {
    "ExecuteTime": {
     "end_time": "2020-02-04T18:14:35.367236Z",
     "start_time": "2020-02-04T18:14:34.696394Z"
    }
   },
   "outputs": [
    {
     "data": {
      "image/png": "[encoded data removed]",
      "text/plain": [
       "<Figure size 504x504 with 2 Axes>"
      ]
     },
     "metadata": {
      "needs_background": "light"
     },
     "output_type": "display_data"
    }
   ],
   "source": [
    "imshow(np.log10(diff_cube.value + 1.))"
   ]
  },
  {
   "cell_type": "code",
   "execution_count": 332,
   "metadata": {},
   "outputs": [],
   "source": [
    "ccc_dif, k = xcorr.r(diff_cube, dc, 200, bins = 14, log_bins = True)\n",
    "ccc_lya, k = xcorr.r(lya_cube, dc, 200, bins = 14, log_bins = True)\n",
    "ccc_both, k = xcorr.r(lya_cube + diff_cube.value, dc, 200, bins = 14, log_bins = True)"
   ]
  },
  {
   "cell_type": "code",
   "execution_count": 87,
   "metadata": {
    "ExecuteTime": {
     "end_time": "2020-02-04T18:18:36.448473Z",
     "start_time": "2020-02-04T18:18:24.172610Z"
    }
   },
   "outputs": [],
   "source": [
    "ps_d, k = xcorr.dimensional_ps(diff_cube.value, 200, bins = 14, log_bins = True)\n",
    "ps, k = xcorr.dimensional_ps(lya_cube, 200, bins = 14, log_bins = True)\n",
    "k *= cosmo.h"
   ]
  },
  {
   "cell_type": "code",
   "execution_count": 88,
   "metadata": {
    "ExecuteTime": {
     "end_time": "2020-02-04T18:18:42.887905Z",
     "start_time": "2020-02-04T18:18:42.281158Z"
    }
   },
   "outputs": [
    {
     "data": {
      "image/png": "[encoded data removed]",
      "text/plain": [
       "<Figure size 720x432 with 1 Axes>"
      ]
     },
     "metadata": {
      "needs_background": "light"
     },
     "output_type": "display_data"
    }
   ],
   "source": [
    "plt.figure(figsize=(10,6))\n",
    "plt.scatter(k, ps / k ** 3, color = 'red', label = 'LAEs')\n",
    "plt.scatter(k, ps_d / k ** 3, color = 'blue', label = 'IGM')\n",
    "plt.plot(k, ps, alpha = 0)\n",
    "plt.xscale('log')\n",
    "plt.yscale('log')\n",
    "plt.xlim([2e-2, 4.5])\n",
    "plt.ylim([1e-22, 1e-12])\n",
    "plt.xlabel(r'$k \\left[h \\ {\\rm Mpc}^{-1} \\right]$', fontsize = 18)\n",
    "plt.ylabel(r'$\\Delta^2_{\\rm Ly \\alpha} \\left[{\\rm erg \\ s^{-1} \\ cm^{-2} \\ sr^{-1}}\\right]^2$', fontsize = 18)\n",
    "plt.legend(fontsize = 14)\n",
    "plt.show()"
   ]
  },
  {
   "cell_type": "code",
   "execution_count": 357,
   "metadata": {},
   "outputs": [],
   "source": [
    "xps, k = xcorr.dimensional_ps(lya_cube + diff_cube.value, 200, deltax2 = dc, bins = 14, log_bins = True)"
   ]
  },
  {
   "cell_type": "code",
   "execution_count": 367,
   "metadata": {},
   "outputs": [
    {
     "data": {
      "image/png": "[encoded data removed]",
      "text/plain": [
       "<Figure size 720x432 with 1 Axes>"
      ]
     },
     "metadata": {
      "needs_background": "light"
     },
     "output_type": "display_data"
    }
   ],
   "source": [
    "plt.figure(figsize=(10,6))\n",
    "plt.scatter(k * 0.6, np.abs(xps), color = 'purple', label = 'xps')\n",
    "plt.plot(k * 0.6, np.abs(xps), alpha = 0)\n",
    "plt.xscale('log')\n",
    "plt.yscale('log')\n",
    "plt.xlim([2e-2, 4.5])\n",
    "plt.ylim([1e-12, 5e-8])\n",
    "plt.xlabel(r'$k \\left[h \\ {\\rm Mpc}^{-1} \\right]$', fontsize = 18)\n",
    "plt.ylabel(r'$\\Delta^2_{\\rm 21, Ly \\alpha} \\left[{\\rm mK \\ erg \\ s^{-1} \\ cm^{-2} \\ sr^{-1}}\\right]$', fontsize = 18)\n",
    "plt.legend(fontsize = 14)\n",
    "plt.show()"
   ]
  },
  {
   "cell_type": "code",
   "execution_count": 333,
   "metadata": {},
   "outputs": [
    {
     "data": {
      "image/png": "[encoded data removed]",
      "text/plain": [
       "<Figure size 720x432 with 1 Axes>"
      ]
     },
     "metadata": {
      "needs_background": "light"
     },
     "output_type": "display_data"
    }
   ],
   "source": [
    "plt.figure(figsize = (10, 6))\n",
    "plt.scatter(k, ccc_dif, color = 'red')\n",
    "plt.scatter(k, ccc_lya, color = 'blue')\n",
    "plt.scatter(k, ccc_both, color = 'purple')\n",
    "plt.xscale('log')\n",
    "plt.ylim([-1, 1])\n",
    "plt.show()"
   ]
  },
  {
   "cell_type": "markdown",
   "metadata": {},
   "source": [
    "## Scattered IGM Emission"
   ]
  },
  {
   "cell_type": "code",
   "execution_count": null,
   "metadata": {},
   "outputs": [],
   "source": [
    "def "
   ]
  }
 ],
 "metadata": {
  "kernelspec": {
   "display_name": "Python 3",
   "language": "python",
   "name": "python3"
  },
  "language_info": {
   "codemirror_mode": {
    "name": "ipython",
    "version": 3
   },
   "file_extension": ".py",
   "mimetype": "text/x-python",
   "name": "python",
   "nbconvert_exporter": "python",
   "pygments_lexer": "ipython3",
   "version": "3.7.6"
  }
 },
 "nbformat": 4,
 "nbformat_minor": 2
}
