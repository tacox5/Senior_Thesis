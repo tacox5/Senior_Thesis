{
 "cells": [
  {
   "cell_type": "code",
   "execution_count": 2,
   "metadata": {
    "ExecuteTime": {
     "end_time": "2020-02-04T19:29:25.854929Z",
     "start_time": "2020-02-04T19:29:24.763470Z"
    }
   },
   "outputs": [],
   "source": [
    "import sys\n",
    "import glob\n",
    "import numpy as np\n",
    "import astropy.units as u\n",
    "from scipy.interpolate import interp1d\n",
    "import matplotlib.pyplot as plt\n",
    "import matplotlib\n",
    "from matplotlib.colors import SymLogNorm\n",
    "from astropy.cosmology import Planck15 as cosmo\n",
    "from astropy import constants as const\n",
    "from powerbox import get_power\n",
    "from hmf import MassFunction\n",
    "from xcorr import load_binary_data\n",
    "import sys\n",
    "import os\n",
    "import numpy as np\n",
    "from scipy.ndimage.filters import gaussian_filter\n",
    "import xcorr\n",
    "\n",
    "plt.rc('font', family='serif')"
   ]
  },
  {
   "cell_type": "code",
   "execution_count": 3,
   "metadata": {
    "ExecuteTime": {
     "end_time": "2020-02-04T19:29:25.882504Z",
     "start_time": "2020-02-04T19:29:25.857164Z"
    }
   },
   "outputs": [],
   "source": [
    "def H(z):\n",
    "    '''\n",
    "    Returns astropy Hubble constant at given redshift\n",
    "    \n",
    "    Units: km Mpc^-1 s^-1\n",
    "    '''\n",
    "    return cosmo.H(z)\n",
    "\n",
    "def n_rec_dot(T_k, x, delta_x, z):\n",
    "    \"\"\"\n",
    "    \"\"\"\n",
    "    return alpha(T_k, z) * n_e(x, delta_x, z) * n_HII(x, delta_x, z)\n",
    "\n",
    "def n_e(x, delta_x, z):\n",
    "    \"\"\"\n",
    "    \"\"\"\n",
    "    return x * n_b(delta_x, z)\n",
    "\n",
    "def n_HII(x, delta_x, z, Y_He = 0.24):\n",
    "    \"\"\"\n",
    "    \"\"\"\n",
    "    return n_e(x, delta_x, z) * (4. - 4. * Y_He) / (4. - 3 * Y_He)\n",
    "\n",
    "def n_b(delta_x, z, n_b0 = 1.905e-7 * u.cm ** -3):\n",
    "    \"\"\"\n",
    "    \"\"\"\n",
    "    return n_b0 * (1. + delta_x) #* (1 + z) ** 3\n",
    "\n",
    "\n",
    "def alpha(T_k, z):\n",
    "    \"\"\"\n",
    "    Recombination coefficient\n",
    "    \"\"\"\n",
    "    units = u.cm ** 3 / u.s\n",
    "    return 4.2e-13 * (T_k / 2e4) ** -0.7 * (1 + z) ** 3 * units\n",
    "\n",
    "def L_diffuse(T_k, x, delta_x, z, f_rec = 0.66):\n",
    "    \"\"\"\n",
    "    \"\"\"\n",
    "    E_lya = 1.637e-11 * u.erg\n",
    "    return f_rec * n_rec_dot(T_k, x, delta_x, z) * E_lya\n",
    "\n",
    "def I_diffuse(T_k, x, delta_x, z):\n",
    "    \"\"\"\n",
    "    \"\"\"\n",
    "    c = y(z) * cosmo.comoving_transverse_distance(z) ** 2 / (4 * np.pi * cosmo.luminosity_distance(z) ** 2)\n",
    "    nu = 2.47e15 / u.s / (1 + z)\n",
    "    return (L_diffuse(T_k, x, delta_x, z) * c * nu).to(u.erg / u.cm ** 2 / u.s)\n",
    "\n",
    "def y(z):\n",
    "    '''\n",
    "    wl_lya -> Lyman-alpha wavelength in units of km\n",
    "    \n",
    "    Returns value in units of Mpc s\n",
    "    '''\n",
    "    l_lya = 1.215e-7 * u.m \n",
    "    return l_lya * (1.0 + z) ** 2 / H(z)"
   ]
  },
  {
   "cell_type": "code",
   "execution_count": 4,
   "metadata": {
    "ExecuteTime": {
     "end_time": "2020-02-04T19:29:25.981212Z",
     "start_time": "2020-02-04T19:29:25.975690Z"
    }
   },
   "outputs": [],
   "source": [
    "ir_cubes = glob.glob('../../data/lyman_alpha_cube_*npy')\n",
    "ir_cubes.sort()"
   ]
  },
  {
   "cell_type": "code",
   "execution_count": 5,
   "metadata": {
    "ExecuteTime": {
     "end_time": "2020-02-04T19:29:26.599434Z",
     "start_time": "2020-02-04T19:29:26.593171Z"
    }
   },
   "outputs": [],
   "source": [
    "density = glob.glob('../../data/updated_smoothed_deltax_z*')\n",
    "density.sort()\n",
    "\n",
    "neutral_frac = glob.glob('../../data/xH_z*')\n",
    "neutral_frac.sort()"
   ]
  },
  {
   "cell_type": "code",
   "execution_count": 10,
   "metadata": {
    "ExecuteTime": {
     "end_time": "2020-02-04T19:31:33.436138Z",
     "start_time": "2020-02-04T19:31:33.430324Z"
    }
   },
   "outputs": [],
   "source": [
    "def z_val(string):\n",
    "    \"\"\"\n",
    "    \"\"\"\n",
    "    return float(os.path.basename(string).split('_')[-1].rsplit('.', 1)[0])\n",
    "\n",
    "def z_str(string):\n",
    "    \"\"\"\n",
    "    \"\"\"\n",
    "    return os.path.basename(string).split('_')[-1].rsplit('.', 1)[0].replace('.', '_')"
   ]
  },
  {
   "cell_type": "code",
   "execution_count": 16,
   "metadata": {
    "ExecuteTime": {
     "end_time": "2020-02-04T19:33:43.517625Z",
     "start_time": "2020-02-04T19:33:29.042976Z"
    }
   },
   "outputs": [
    {
     "name": "stdout",
     "output_type": "stream",
     "text": [
      "../../data/diffuse_ir_cube_6_0.npy\n",
      "../../data/diffuse_ir_cube_6_14.npy\n",
      "../../data/diffuse_ir_cube_6_28.npy\n",
      "../../data/diffuse_ir_cube_6_43.npy\n",
      "../../data/diffuse_ir_cube_6_58.npy\n",
      "../../data/diffuse_ir_cube_6_73.npy\n",
      "../../data/diffuse_ir_cube_6_88.npy\n",
      "../../data/diffuse_ir_cube_7_04.npy\n",
      "../../data/diffuse_ir_cube_7_2.npy\n",
      "../../data/diffuse_ir_cube_7_37.npy\n",
      "../../data/diffuse_ir_cube_7_53.npy\n",
      "../../data/diffuse_ir_cube_7_7.npy\n",
      "../../data/diffuse_ir_cube_7_88.npy\n",
      "../../data/diffuse_ir_cube_8_06.npy\n"
     ]
    }
   ],
   "source": [
    "for i in np.arange(len(density)):\n",
    "    delta_x = load_binary_data(density[i])\n",
    "    delta_x = np.reshape(delta_x, (256, 256, 256))\n",
    "    \n",
    "    x_i = load_binary_data(neutral_frac[i])\n",
    "    x_i = np.reshape(x_i, (256, 256, 256))\n",
    "    \n",
    "    diff_cube = I_diffuse(5e3, 1.0 - x_i, delta_x, z = z_val(ir_cubes[i]))\n",
    "    print (os.path.join('../../data', 'diffuse_ir_cube_' + z_str(ir_cubes[i]) + '.npy'))\n",
    "    np.save(os.path.join('../../data', 'diffuse_ir_cube_' + z_str(ir_cubes[i]) + '.npy'), diff_cube.value)"
   ]
  },
  {
   "cell_type": "code",
   "execution_count": null,
   "metadata": {},
   "outputs": [],
   "source": []
  }
 ],
 "metadata": {
  "kernelspec": {
   "display_name": "Python 3",
   "language": "python",
   "name": "python3"
  },
  "language_info": {
   "codemirror_mode": {
    "name": "ipython",
    "version": 3
   },
   "file_extension": ".py",
   "mimetype": "text/x-python",
   "name": "python",
   "nbconvert_exporter": "python",
   "pygments_lexer": "ipython3",
   "version": "3.7.6"
  }
 },
 "nbformat": 4,
 "nbformat_minor": 2
}
