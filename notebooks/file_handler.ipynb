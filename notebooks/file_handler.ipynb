{
 "cells": [
  {
   "cell_type": "code",
   "execution_count": 2,
   "metadata": {},
   "outputs": [],
   "source": [
    "import os\n",
    "import glob\n",
    "import pickle\n",
    "import numpy as np\n",
    "import multiprocessing\n",
    "\n",
    "import xcorr\n",
    "from py21cmsense import sensitivity as sense"
   ]
  },
  {
   "cell_type": "code",
   "execution_count": 5,
   "metadata": {},
   "outputs": [],
   "source": [
    "class FileHandler:\n",
    "    \"\"\"\n",
    "    Cube types to search for 'density', 'kinetic temp', 'brightness temperature',\n",
    "    'halos'\n",
    "    \"\"\"\n",
    "    def __init__(self, path):\n",
    "        \"\"\"\n",
    "        Parameters:\n",
    "        ----------\n",
    "\n",
    "        path: (str)\n",
    "            path to 21cmFAST run\n",
    "        \"\"\"\n",
    "        self.path = path\n",
    "        self.zs = self.get_redshifts()\n",
    "        self.dir = {\n",
    "            \"density\": \"Boxes/\",\n",
    "            \"brightness_temp\": \"Boxes/\",\n",
    "            \"kinetic_gas_temp\": \"Boxes/\",\n",
    "            \"halos\": \"Halo_lists/\"\n",
    "        }\n",
    "\n",
    "    def get_redshifts(self):\n",
    "        \"\"\"\n",
    "        Returns the redshifts of observations by pulling them directly from the files\n",
    "        \"\"\"\n",
    "        paths = glob.glob(os.path.join(self.path, 'Boxes', 'delta_T*'))\n",
    "        zs = []\n",
    "        \n",
    "        for path in paths:\n",
    "            fname = os.path.basename(path)\n",
    "            zs.append(float(fname.split('_')[3].split('z')[1]))\n",
    "            \n",
    "        zs.sort()\n",
    "        return zs\n",
    "\n",
    "    def find_nearest(self, z):\n",
    "        \"\"\"\n",
    "        \"\"\"\n",
    "        return np.argmin(np.abs(self.zs - z))\n",
    "\n",
    "    def find_cube(self, z):\n",
    "        \"\"\"\n",
    "        \"\"\"\n",
    "        idx = self.find_nearest(z)\n",
    "        fname = self.nearest_fname(self.zs[idx])\n",
    "        return fname"
   ]
  }
 ],
 "metadata": {
  "kernelspec": {
   "display_name": "Python 3",
   "language": "python",
   "name": "python3"
  },
  "language_info": {
   "codemirror_mode": {
    "name": "ipython",
    "version": 3
   },
   "file_extension": ".py",
   "mimetype": "text/x-python",
   "name": "python",
   "nbconvert_exporter": "python",
   "pygments_lexer": "ipython3",
   "version": "3.7.3"
  }
 },
 "nbformat": 4,
 "nbformat_minor": 2
}
