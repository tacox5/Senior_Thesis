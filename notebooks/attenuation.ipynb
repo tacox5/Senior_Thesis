{
 "cells": [
  {
   "cell_type": "markdown",
   "metadata": {},
   "source": [
    "## Ly$\\alpha$ Attenuation\n",
    "\n",
    "This notebook calculates the lyman-alpha attenuation"
   ]
  },
  {
   "cell_type": "code",
   "execution_count": 145,
   "metadata": {},
   "outputs": [],
   "source": [
    "import numpy as np\n",
    "import matplotlib.pyplot as plt\n",
    "from astropy.cosmology import Planck15 as cosmo\n",
    "from astropy import constants as const\n",
    "from astropy import units as u\n",
    "from twentyonecmFAST import load_binary_data\n",
    "import tqdm\n",
    "import glob\n",
    "import os"
   ]
  },
  {
   "cell_type": "code",
   "execution_count": 188,
   "metadata": {},
   "outputs": [],
   "source": [
    "def binary_ish_to_npy(files):\n",
    "    for f in files:\n",
    "        print (f)\n",
    "        halo = np.loadtxt(f)\n",
    "        np.save(f + '.npy', halo)"
   ]
  },
  {
   "cell_type": "code",
   "execution_count": 133,
   "metadata": {},
   "outputs": [],
   "source": [
    "def tau_s(z_s):\n",
    "    \"\"\"\n",
    "    \n",
    "    \"\"\"\n",
    "    return 6.45e5 * (cosmo.Ob0 * cosmo.h / 0.03) * (cosmo.Om0 / 0.3) ** -0.5 * ((1 + z_s) / 10)\n",
    "\n",
    "def helper(x):\n",
    "    \"\"\"\n",
    "    \"\"\"\n",
    "    return (x ** 4.5 / (1. - x) + 9 / 7 * x ** 3.5 + \n",
    "            9. / 5. * x ** 2.5 + 3 * x ** 1.5 + 9 * x ** 0.5 - \n",
    "            4.5 * np.log((1 + x ** 0.5) / (1 - x ** 0.5)))\n",
    "\n",
    "def tau_lya(halo_pos, xH, z, z_reion = 6., dim = 256, width = 200 * u.Mpc):\n",
    "    \"\"\"\n",
    "    xH: (np.array, int)\n",
    "        Average neutral fraction\n",
    "        \n",
    "    z: float\n",
    "        Source redshift\n",
    "        \n",
    "    halo_file: float\n",
    "        asdf\n",
    "        \n",
    "    Returns:\n",
    "    -------\n",
    "    \n",
    "    \"\"\"\n",
    "    D = rand_average_bubble_size(halo_pos, xH, dim = dim, width = width)\n",
    "    z_obs = z + hand_wavy_redshift(z, D)\n",
    "    h_diff = (helper((1 + z) / (1 + z_obs)) - helper((1 + z_reion) / (1 + z_obs)))\n",
    "    return np.mean(xH) * tau_s(z) * (2.02e-8 / np.pi) * ((1 + z) / (1 + z_obs)) ** 1.5 * h_diff\n",
    "\n",
    "def hand_wavy_redshift(z, D = 6.6 * u.Mpc):\n",
    "    \"\"\"\n",
    "    \"\"\"\n",
    "    return (cosmo.H(z) * D / const.c).to(u.dimensionless_unscaled)\n",
    "\n",
    "\n",
    "def bubble_size(pos, xH):\n",
    "    \"\"\"\n",
    "    \n",
    "    Return the ionized bubble size in voxels\n",
    "    \n",
    "    Parameters:\n",
    "    ----------\n",
    "    \n",
    "    pos : tuple, np.array\n",
    "        LAE halo positions\n",
    "        \n",
    "    xH : np.array\n",
    "        Neutral fraction cube\n",
    "        \n",
    "    \"\"\"\n",
    "    try:\n",
    "        return np.abs(pos[2] - np.array(np.nonzero(xH[pos[0], pos[1], ]))).min()\n",
    "    \n",
    "    except:\n",
    "        return -1\n",
    "\n",
    "    \n",
    "def average_bubble_size(halo_pos, xH, dim = 256., width = 200. * u.Mpc):\n",
    "    \"\"\"\n",
    "    Calculates the mean of the whole sample\n",
    "    \"\"\"\n",
    "    pix = 0\n",
    "    count = 0\n",
    "    for i in tqdm.tqdm(range(halo_pos.shape[0]),\n",
    "                       desc=\"Calculating Mean Bubble Size\",\n",
    "                       unit=\"halo\",\n",
    "                       total=halo_pos.shape[0]):\n",
    "        size = bubble_size(halo_pos[i, :], xH)\n",
    "        if size > 0:\n",
    "            pix += size\n",
    "            count += 1\n",
    "    return (pix / count) * (width / dim)\n",
    "\n",
    "def rand_average_bubble_size(halo_pos, xH, dim = 256., width = 200. * u.Mpc):\n",
    "    \"\"\"\n",
    "    Randomly selects ~1% of the population to take the mean\n",
    "    \"\"\"\n",
    "    pix = 0\n",
    "    count = 0\n",
    "    s = halo_pos.shape[0]\n",
    "    idx = np.random.choice(np.arange(s), replace = False, size = int(s / 100.))\n",
    "    pos = halo_pos[idx, :]\n",
    "\n",
    "    for i in tqdm.tqdm(range(pos.shape[0]),\n",
    "                       desc=\"Calculating Mean Bubble Size\",\n",
    "                       unit=\"halo\",\n",
    "                       total=pos.shape[0]):\n",
    "        size = bubble_size(pos[i, :], xH)\n",
    "        if size > 0:\n",
    "            pix += size\n",
    "            count += 1\n",
    "    return (pix / count) * (width / dim)"
   ]
  },
  {
   "cell_type": "code",
   "execution_count": 196,
   "metadata": {},
   "outputs": [],
   "source": [
    "xHs = glob.glob('../../data/xH*')\n",
    "xHs.sort()\n",
    "\n",
    "h_path = glob.glob('../../data/halos*.npy')\n",
    "h_path.sort()"
   ]
  },
  {
   "cell_type": "code",
   "execution_count": 206,
   "metadata": {},
   "outputs": [
    {
     "name": "stderr",
     "output_type": "stream",
     "text": [
      "Calculating Mean Bubble Size: 100%|██████████| 64000/64000 [00:01<00:00, 59068.70halo/s]\n",
      "Calculating Mean Bubble Size: 100%|██████████| 59824/59824 [00:00<00:00, 60812.87halo/s]\n",
      "Calculating Mean Bubble Size: 100%|██████████| 55851/55851 [00:00<00:00, 56995.00halo/s]\n",
      "Calculating Mean Bubble Size: 100%|██████████| 51789/51789 [00:00<00:00, 57492.99halo/s]\n",
      "Calculating Mean Bubble Size: 100%|██████████| 47948/47948 [00:00<00:00, 54674.01halo/s]\n",
      "Calculating Mean Bubble Size: 100%|██████████| 44324/44324 [00:00<00:00, 57992.49halo/s]\n",
      "Calculating Mean Bubble Size: 100%|██████████| 40877/40877 [00:00<00:00, 59309.84halo/s]\n",
      "Calculating Mean Bubble Size: 100%|██████████| 37447/37447 [00:00<00:00, 52899.62halo/s]\n",
      "Calculating Mean Bubble Size: 100%|██████████| 34246/34246 [00:00<00:00, 50448.43halo/s]\n",
      "Calculating Mean Bubble Size: 100%|██████████| 31078/31078 [00:00<00:00, 51289.77halo/s]\n",
      "Calculating Mean Bubble Size: 100%|██████████| 28309/28309 [00:00<00:00, 48623.68halo/s]\n",
      "Calculating Mean Bubble Size: 100%|██████████| 25596/25596 [00:00<00:00, 50871.61halo/s]\n",
      "Calculating Mean Bubble Size: 100%|██████████| 22954/22954 [00:00<00:00, 45134.15halo/s]\n",
      "Calculating Mean Bubble Size: 100%|██████████| 20523/20523 [00:00<00:00, 47098.42halo/s]\n"
     ]
    }
   ],
   "source": [
    "atten = []\n",
    "zs = []\n",
    "xhs = []\n",
    "\n",
    "for i in np.arange(len(h_path)):\n",
    "    xH = load_binary_data(xHs[i])\n",
    "    xH = np.reshape(xH, (256, 256, 256))\n",
    "    xhs.append(np.mean(xH))\n",
    "    halos = np.load(h_path[i])\n",
    "    halo_pos = (halos[:, 1:] * 256).astype(int)\n",
    "    z = float(os.path.basename(h_path[i]).split('_')[1][1:])\n",
    "    zs.append(z)\n",
    "    atten.append(np.exp(-tau_lya(halo_pos, xH, z)))"
   ]
  },
  {
   "cell_type": "code",
   "execution_count": 209,
   "metadata": {},
   "outputs": [],
   "source": [
    "np.savez('attenuation.npz', zs = zs, tau = atten, xH = xhs)"
   ]
  },
  {
   "cell_type": "code",
   "execution_count": 210,
   "metadata": {},
   "outputs": [
    {
     "data": {
      "image/png": "[encoded data removed]",
      "text/plain": [
       "<Figure size 432x432 with 1 Axes>"
      ]
     },
     "metadata": {
      "needs_background": "light"
     },
     "output_type": "display_data"
    }
   ],
   "source": [
    "plt.figure(figsize = (6,6))\n",
    "plt.scatter(zs, atten)\n",
    "plt.scatter(zs, xhs)\n",
    "plt.show()"
   ]
  },
  {
   "cell_type": "code",
   "execution_count": 1,
   "metadata": {},
   "outputs": [],
   "source": [
    "import pickle\n",
    "\n",
    "with open ('21cmSense_objs/hera_sense_6_0.pkl', 'rb') as pkl:\n",
    "    sensitivity = pickle.load(pkl)"
   ]
  },
  {
   "cell_type": "code",
   "execution_count": 2,
   "metadata": {},
   "outputs": [],
   "source": [
    "sensitivity.calculate_sensitivity_2d?"
   ]
  },
  {
   "cell_type": "code",
   "execution_count": null,
   "metadata": {},
   "outputs": [],
   "source": []
  }
 ],
 "metadata": {
  "kernelspec": {
   "display_name": "Python 3",
   "language": "python",
   "name": "python3"
  },
  "language_info": {
   "codemirror_mode": {
    "name": "ipython",
    "version": 3
   },
   "file_extension": ".py",
   "mimetype": "text/x-python",
   "name": "python",
   "nbconvert_exporter": "python",
   "pygments_lexer": "ipython3",
   "version": "3.7.6"
  }
 },
 "nbformat": 4,
 "nbformat_minor": 2
}
