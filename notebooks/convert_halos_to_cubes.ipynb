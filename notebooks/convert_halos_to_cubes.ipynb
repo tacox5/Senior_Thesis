{
 "cells": [
  {
   "cell_type": "code",
   "execution_count": 29,
   "metadata": {},
   "outputs": [],
   "source": [
    "import xcorr\n",
    "import glob\n",
    "import os\n",
    "import numpy as np\n",
    "import tqdm\n"
   ]
  },
  {
   "cell_type": "code",
   "execution_count": null,
   "metadata": {},
   "outputs": [],
   "source": [
    "halo_pos = (halos[:, 1:] * 256).astype(int)\n",
    "halo_mass = halos[:, 0]\n",
    "I_8 = xcorr.cube_brightness(halo_mass, halo_pos, z = 8.04)"
   ]
  },
  {
   "cell_type": "code",
   "execution_count": 22,
   "metadata": {},
   "outputs": [],
   "source": [
    "halo_files = glob.glob('../../data/halos_*')\n",
    "halo_files.sort()"
   ]
  },
  {
   "cell_type": "code",
   "execution_count": 23,
   "metadata": {},
   "outputs": [],
   "source": [
    "def filename_to_z(f):\n",
    "    \"\"\"\n",
    "    \"\"\"\n",
    "    return float(os.path.basename(f).split('z')[1].split('_')[0])"
   ]
  },
  {
   "cell_type": "code",
   "execution_count": 31,
   "metadata": {
    "scrolled": true
   },
   "outputs": [
    {
     "name": "stderr",
     "output_type": "stream",
     "text": [
      "\n",
      "Calculating Lyman Alpha Cubes:   0%|          | 0/19 [00:00<?, ?cube/s]\u001b[A\n",
      "Calculating Lyman Alpha Cubes:   5%|▌         | 1/19 [00:56<16:53, 56.31s/cube]\u001b[A\n",
      "Calculating Lyman Alpha Cubes:  11%|█         | 2/19 [01:46<15:24, 54.40s/cube]\u001b[A\n",
      "Calculating Lyman Alpha Cubes:  16%|█▌        | 3/19 [02:36<14:08, 53.05s/cube]\u001b[A\n",
      "Calculating Lyman Alpha Cubes:  21%|██        | 4/19 [03:24<12:52, 51.53s/cube]\u001b[A\n",
      "Calculating Lyman Alpha Cubes:  26%|██▋       | 5/19 [04:09<11:37, 49.79s/cube]\u001b[A\n",
      "Calculating Lyman Alpha Cubes:  32%|███▏      | 6/19 [04:53<10:23, 47.93s/cube]\u001b[A\n",
      "Calculating Lyman Alpha Cubes:  37%|███▋      | 7/19 [05:28<08:47, 43.99s/cube]\u001b[A\n",
      "Calculating Lyman Alpha Cubes:  42%|████▏     | 8/19 [06:00<07:23, 40.33s/cube]\u001b[A\n",
      "Calculating Lyman Alpha Cubes:  47%|████▋     | 9/19 [06:28<06:08, 36.90s/cube]\u001b[A\n",
      "Calculating Lyman Alpha Cubes:  53%|█████▎    | 10/19 [07:03<05:25, 36.15s/cube]\u001b[A\n",
      "Calculating Lyman Alpha Cubes:  58%|█████▊    | 11/19 [07:30<04:27, 33.49s/cube]\u001b[A\n",
      "Calculating Lyman Alpha Cubes:  63%|██████▎   | 12/19 [07:57<03:40, 31.56s/cube]\u001b[A\n",
      "Calculating Lyman Alpha Cubes:  68%|██████▊   | 13/19 [08:16<02:47, 27.85s/cube]\u001b[A\n",
      "Calculating Lyman Alpha Cubes:  74%|███████▎  | 14/19 [08:34<02:04, 24.88s/cube]\u001b[A\n",
      "Calculating Lyman Alpha Cubes:  79%|███████▉  | 15/19 [08:53<01:32, 23.09s/cube]\u001b[A\n",
      "Calculating Lyman Alpha Cubes:  84%|████████▍ | 16/19 [09:09<01:02, 20.82s/cube]\u001b[A\n",
      "Calculating Lyman Alpha Cubes:  89%|████████▉ | 17/19 [09:24<00:37, 19.00s/cube]\u001b[A\n",
      "Calculating Lyman Alpha Cubes:  95%|█████████▍| 18/19 [09:35<00:16, 16.72s/cube]\u001b[A\n",
      "Calculating Lyman Alpha Cubes: 100%|██████████| 19/19 [09:42<00:00, 13.73s/cube]\u001b[A"
     ]
    }
   ],
   "source": [
    "for f in tqdm.tqdm(halo_files,\n",
    "                   desc=\"Calculating Lyman Alpha Cubes\",\n",
    "                   unit=\"cube\",\n",
    "                   total=len(halo_files)):\n",
    "    z = filename_to_z(f)\n",
    "    halos = np.loadtxt(f)\n",
    "    halo_pos = (halos[:, 1:] * 256).astype(int)\n",
    "    halo_mass = halos[:, 0]\n",
    "    np.save('../../lyman_alpha_cube_{}'.format(z), xcorr.cube_brightness(halo_mass, halo_pos, z = z))"
   ]
  }
 ],
 "metadata": {
  "kernelspec": {
   "display_name": "Python 3",
   "language": "python",
   "name": "python3"
  },
  "language_info": {
   "codemirror_mode": {
    "name": "ipython",
    "version": 3
   },
   "file_extension": ".py",
   "mimetype": "text/x-python",
   "name": "python",
   "nbconvert_exporter": "python",
   "pygments_lexer": "ipython3",
   "version": "3.7.3"
  }
 },
 "nbformat": 4,
 "nbformat_minor": 2
}
