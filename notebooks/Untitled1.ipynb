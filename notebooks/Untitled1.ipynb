{
 "cells": [
  {
   "cell_type": "code",
   "execution_count": 4,
   "metadata": {
    "ExecuteTime": {
     "end_time": "2020-02-18T22:33:42.494405Z",
     "start_time": "2020-02-18T22:33:42.489842Z"
    }
   },
   "outputs": [],
   "source": [
    "import matplotlib.pyplot as plt\n",
    "from powerbox import get_power\n",
    "import glob\n",
    "import numpy as np"
   ]
  },
  {
   "cell_type": "code",
   "execution_count": 5,
   "metadata": {
    "ExecuteTime": {
     "end_time": "2020-02-18T22:33:42.809119Z",
     "start_time": "2020-02-18T22:33:42.797310Z"
    }
   },
   "outputs": [],
   "source": [
    "ir_cubes = glob.glob('../../data/lyman_alpha_cube_*npy')\n",
    "ir_cubes.sort()\n",
    "\n",
    "diffuse_ir_cubes = glob.glob('../../data/diffuse_ir_cube*')\n",
    "diffuse_ir_cubes.sort()"
   ]
  },
  {
   "cell_type": "code",
   "execution_count": 25,
   "metadata": {
    "ExecuteTime": {
     "end_time": "2020-02-18T22:47:14.021680Z",
     "start_time": "2020-02-18T22:47:13.816367Z"
    }
   },
   "outputs": [],
   "source": [
    "for i in np.arange(len(ir_cubes)):\n",
    "    laes = np.load(ir_cubes[i])\n",
    "    diff = np.load(diffuse_ir_cubes[i])\n",
    "    "
   ]
  },
  {
   "cell_type": "code",
   "execution_count": 26,
   "metadata": {
    "ExecuteTime": {
     "end_time": "2020-02-18T22:47:21.350625Z",
     "start_time": "2020-02-18T22:47:21.309966Z"
    }
   },
   "outputs": [
    {
     "data": {
      "text/plain": [
       "(5.090698944053934e-09, 2.6170577e-09)"
      ]
     },
     "execution_count": 26,
     "metadata": {},
     "output_type": "execute_result"
    }
   ],
   "source": [
    "laes.mean(), diff.mean()"
   ]
  },
  {
   "cell_type": "code",
   "execution_count": 18,
   "metadata": {
    "ExecuteTime": {
     "end_time": "2020-02-18T22:43:11.397005Z",
     "start_time": "2020-02-18T22:43:11.228494Z"
    }
   },
   "outputs": [
    {
     "data": {
      "text/plain": [
       "(1.6197853458070103e-09,\n",
       " 1.952309e-09,\n",
       " 3.5720949780039185e-09,\n",
       " 3.5720943269527442e-09)"
      ]
     },
     "execution_count": 18,
     "metadata": {},
     "output_type": "execute_result"
    }
   ],
   "source": [
    "laes.mean(), diff.mean(), (diff + laes).mean(), diff.mean() + laes.mean()"
   ]
  },
  {
   "cell_type": "code",
   "execution_count": 13,
   "metadata": {
    "ExecuteTime": {
     "end_time": "2020-02-18T22:41:42.317994Z",
     "start_time": "2020-02-18T22:41:38.724105Z"
    }
   },
   "outputs": [],
   "source": [
    "p, k = get_power(cube, 200, log_bins=True, bins = 14)\n",
    "ps = k ** 3 / (2 * np.pi ** 2) * p"
   ]
  },
  {
   "cell_type": "code",
   "execution_count": 14,
   "metadata": {
    "ExecuteTime": {
     "end_time": "2020-02-18T22:41:48.721555Z",
     "start_time": "2020-02-18T22:41:48.712413Z"
    }
   },
   "outputs": [
    {
     "data": {
      "text/plain": [
       "array([8.64072352e-02, 2.55250717e-01, 5.07918449e-01, 9.31701344e-01,\n",
       "       1.43196552e+00, 2.43206679e+00, 3.85018195e+00, 6.53456581e+00,\n",
       "       1.13415235e+01, 2.26023391e+01, 5.99048240e+01, 1.97293369e+02,\n",
       "       6.06276008e+02, 1.37199930e+03])"
      ]
     },
     "execution_count": 14,
     "metadata": {},
     "output_type": "execute_result"
    }
   ],
   "source": [
    "ps"
   ]
  },
  {
   "cell_type": "code",
   "execution_count": null,
   "metadata": {},
   "outputs": [],
   "source": [
    "def dimensional_ps(cube, boxlength, deltax2 = None, get_variance = False, **kwargs):\n",
    "    \"\"\"\n",
    "    Dimensional Power Spectrum\n",
    "\n",
    "    \"\"\"\n",
    "    if deltax2 is None:\n",
    "        deltax2 = cube\n",
    "\n",
    "    if get_variance:\n",
    "        ps, k, var = power_spectra(cube, boxlength, get_variance = get_variance,\n",
    "                                   deltax2 = deltax2, **kwargs)\n",
    "    else:\n",
    "        ps, k = power_spectra(cube, boxlength, deltax2 = deltax2, **kwargs)\n",
    "\n",
    "\n",
    "    return cube.mean() * deltax2.mean() * ps, k"
   ]
  }
 ],
 "metadata": {
  "kernelspec": {
   "display_name": "Python 3",
   "language": "python",
   "name": "python3"
  },
  "language_info": {
   "codemirror_mode": {
    "name": "ipython",
    "version": 3
   },
   "file_extension": ".py",
   "mimetype": "text/x-python",
   "name": "python",
   "nbconvert_exporter": "python",
   "pygments_lexer": "ipython3",
   "version": "3.7.6"
  }
 },
 "nbformat": 4,
 "nbformat_minor": 2
}
