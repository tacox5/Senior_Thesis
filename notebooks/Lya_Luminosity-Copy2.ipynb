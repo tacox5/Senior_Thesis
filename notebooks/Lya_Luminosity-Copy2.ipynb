{
 "cells": [
  {
   "cell_type": "markdown",
   "metadata": {},
   "source": [
    "# Ly$\\alpha$ Luminosities"
   ]
  },
  {
   "cell_type": "code",
   "execution_count": 43,
   "metadata": {},
   "outputs": [],
   "source": [
    "import sys\n",
    "import glob\n",
    "import numpy as np\n",
    "import astropy.units as u\n",
    "from scipy.interpolate import interp1d\n",
    "import matplotlib.pyplot as plt\n",
    "import matplotlib\n",
    "from matplotlib.colors import SymLogNorm\n",
    "from astropy.cosmology import Planck15 as cosmo\n",
    "from astropy import constants as const\n",
    "from powerbox.powerbox import get_power\n",
    "from hmf import MassFunction\n",
    "from twentyonecmFAST import load_binary_data\n",
    "from scipy.ndimage.filters import gaussian_filter\n",
    "import xcorr\n",
    "\n",
    "plt.rc('font', family='serif')"
   ]
  },
  {
   "cell_type": "markdown",
   "metadata": {},
   "source": [
    "## Helpful Functions"
   ]
  },
  {
   "cell_type": "code",
   "execution_count": 44,
   "metadata": {},
   "outputs": [],
   "source": [
    "def star_formation_rate(M, z = 7, sim_num = 1):\n",
    "    '''\n",
    "    Returns the star-formation rate for a dark-matter halo of a given mass and redshift\n",
    "    \n",
    "    Units: M_sun per year\n",
    "    \n",
    "    \n",
    "    Note: Zero-out redshift for now. Other versions of this equation use redshift but the current\n",
    "          sim that I am basing this equation off of does not use redshift.\n",
    "    \n",
    "    https://arxiv.org/pdf/1205.1493.pdf\n",
    "    \n",
    "    '''\n",
    "\n",
    "    if sim_num == 1:\n",
    "        a, b, d, c1, c2 = 2.8, -0.94, -1.7, 1e9, 7e10\n",
    "        sfr = 2.8e-28 * (M ** a) * (1.0 + M / c1) ** b * (1.0 + M / c2) ** d\n",
    "        \n",
    "    if sim_num == 2:\n",
    "        a, b, d, e, c1, c2, c3 = 2.59, -0.62, 0.4, -2.25, 8e8, 7e9, 1e11\n",
    "        sfr = 1.6e-26 * (M ** a) * (1.0 + M / c1) ** b * (1.0 + M / c2) ** d * (1.0 + M / c3) ** e\n",
    "        \n",
    "    if sim_num == 3:\n",
    "        a, b, d, e, c1, c2, c3 = 2.59, -0.62, 0.4, -2.25, 8e8, 7e9, 1e11\n",
    "        sfr = 2.25e-26 * (1.0 + 0.075 * (z-7)) * (M ** a) * (1.0 + M / c1) ** b * (1.0 + M / c2) ** d * (1.0 + M / c3) ** e\n",
    "    \n",
    "    return sfr * u.M_sun / u.year"
   ]
  },
  {
   "cell_type": "code",
   "execution_count": 45,
   "metadata": {},
   "outputs": [],
   "source": [
    "def f_lya(z, C_dust = 3.34, zeta = 2.57):\n",
    "    '''\n",
    "    Fraction of lyman-alpha photons not absorbed by dust\n",
    "    \n",
    "    https://arxiv.org/pdf/1010.4796.pdf\n",
    "    '''\n",
    "    return C_dust * 1e-3 * (1.0 + z) ** zeta\n",
    "\n",
    "def f_esc(M,z):\n",
    "    '''\n",
    "    Escape fraction of ionizing photons\n",
    "    '''\n",
    "    def alpha(z):\n",
    "        '''\n",
    "        Alpha/beta values found in:\n",
    "\n",
    "        https://arxiv.org/pdf/0903.2045.pdf\n",
    "        '''\n",
    "        zs = np.array([10.4,8.2,6.7,5.7,5.0,4.4])\n",
    "        a = np.array([2.78e-2, 1.30e-2, 5.18e-3, 3.42e-3, 6.68e-5, 4.44e-5])\n",
    "        b = np.array([0.105, 0.179, 0.244, 0.262, 0.431, 0.454])\n",
    "        fa = interp1d(zs, a, kind = 'cubic')\n",
    "        fb = interp1d(zs, b, kind = 'cubic')\n",
    "        return (fa(z), fb(z))\n",
    "    \n",
    "    a, b = alpha(z)\n",
    "    return np.exp(-a * M ** b)\n",
    "\n",
    "def L_gal_rec(M, z, sim_num = 1):\n",
    "    \"\"\"\n",
    "    Luminosity due to galactic recombinations\n",
    "    \"\"\"\n",
    "    sf_rate = star_formation_rate(M, z = z, sim_num = sim_num)\n",
    "    return 1.55e42 * (1 - f_esc(M, z)) * f_lya(z) * sf_rate * u.erg / u.s * u.year / u.Msun\n",
    "\n",
    "def L_gal_exc(M, z, sim_num = 1):\n",
    "    \"\"\"\n",
    "    Luminosity due to galactic excitations\n",
    "    \"\"\"\n",
    "    sf_rate = star_formation_rate(M, z = z, sim_num = sim_num)\n",
    "    return 4.03e41 * f_lya(z) * (1 - f_esc(M, z)) * sf_rate * u.erg / u.s * u.year / u.Msun\n",
    "\n",
    "def L_gal(M, z, sim_num = 1):\n",
    "    return L_gal_exc(M, z, sim_num = sim_num) + L_gal_rec(M, z, sim_num = sim_num)\n",
    "\n",
    "\n",
    "def big_I(M, z, n = 256.):\n",
    "    c = y(z) * cosmo.comoving_transverse_distance(z) ** 2 / (4 * np.pi * cosmo.luminosity_distance(z) ** 2)\n",
    "    L_val = L_gal(M, z)\n",
    "    V = (200. * u.Mpc / n) ** 3\n",
    "    nu = 2.47e15 / u.s / (1 + z)\n",
    "    return (nu * c * L_val / V).to(u.erg / u.cm ** 2 / u.s)"
   ]
  },
  {
   "cell_type": "code",
   "execution_count": 46,
   "metadata": {},
   "outputs": [],
   "source": [
    "def H(z):\n",
    "    '''\n",
    "    Returns astropy Hubble constant at given redshift\n",
    "    \n",
    "    Units: km Mpc^-1 s^-1\n",
    "    '''\n",
    "    return cosmo.H(z)\n",
    "\n",
    "def y(z):\n",
    "    '''\n",
    "    wl_lya -> Lyman-alpha wavelength in units of km\n",
    "    \n",
    "    Returns value in units of Mpc s\n",
    "    '''\n",
    "    l_lya = 1.215e-7 * u.m \n",
    "    return l_lya * (1.0 + z) ** 2 / H(z)\n",
    "\n",
    "def I(z, L = L_gal, n = 5000, sim_num = 1):\n",
    "    \"\"\" Mean Lyman Alpha Intensity\n",
    "    \"\"\"\n",
    "    dlog10m = (13 - 8.) / n\n",
    "    c = y(z) * cosmo.comoving_transverse_distance(z) ** 2 / (4 * np.pi * cosmo.luminosity_distance(z) ** 2)\n",
    "    h = MassFunction(z = z, Mmin = 8, Mmax = 13, hmf_model = 'SMT', dlog10m = dlog10m)\n",
    "    M = h.m * cosmo.h\n",
    "    dM = np.diff(M)\n",
    "    nu = 2.47e15 / u.s / (1 + z)\n",
    "    dndm = h.dndm[1:] * u.Mpc ** -3\n",
    "    nu_I = nu * np.sum(dndm * dM * L(M[1:], z, sim_num = sim_num) * c)\n",
    "    return nu_I.to(u.erg / u.cm ** 2 / u.s)\n",
    "    \n",
    "def cube_3d_I(M, z, L = L_gal, n = 256):\n",
    "    lya_field = np.zeros((n, n, n))\n",
    "    I_vals = big_I(M, z, n = n).value\n",
    "    lya_field[halo_pos[:, 0], halo_pos[:, 1], halo_pos[:, 2]] += I_vals\n",
    "    return lya_field"
   ]
  },
  {
   "cell_type": "code",
   "execution_count": 47,
   "metadata": {},
   "outputs": [],
   "source": [
    "def I_21(T, z):\n",
    "    \"\"\"\n",
    "    Convert mean brightness temperature to a surface brightness\n",
    "    \"\"\"\n",
    "    nu = 1420 * u.MHz / (z + 1)\n",
    "    I = 2. * const.h * nu ** 3 / const.c ** 2 * 1.0 / (np.exp(const.h * nu / (const.k_B * T)) - 1)\n",
    "    return (nu * I).to(u.erg / u.cm ** 2 / u.s)"
   ]
  },
  {
   "cell_type": "code",
   "execution_count": 48,
   "metadata": {},
   "outputs": [
    {
     "ename": "KeyboardInterrupt",
     "evalue": "",
     "output_type": "error",
     "traceback": [
      "\u001b[0;31m---------------------------------------------------------------------------\u001b[0m",
      "\u001b[0;31mKeyboardInterrupt\u001b[0m                         Traceback (most recent call last)",
      "\u001b[0;32m<ipython-input-48-6db860f4cf4c>\u001b[0m in \u001b[0;36m<module>\u001b[0;34m\u001b[0m\n\u001b[1;32m      1\u001b[0m \u001b[0mz\u001b[0m \u001b[0;34m=\u001b[0m \u001b[0;36m7.2\u001b[0m\u001b[0;34m\u001b[0m\u001b[0;34m\u001b[0m\u001b[0m\n\u001b[0;32m----> 2\u001b[0;31m \u001b[0mhalos\u001b[0m \u001b[0;34m=\u001b[0m \u001b[0mnp\u001b[0m\u001b[0;34m.\u001b[0m\u001b[0mloadtxt\u001b[0m\u001b[0;34m(\u001b[0m\u001b[0;34m'../../data/halos_z7.20_768_200Mpc'\u001b[0m\u001b[0;34m)\u001b[0m\u001b[0;34m\u001b[0m\u001b[0;34m\u001b[0m\u001b[0m\n\u001b[0m\u001b[1;32m      3\u001b[0m \u001b[0mhalo_pos\u001b[0m \u001b[0;34m=\u001b[0m \u001b[0;34m(\u001b[0m\u001b[0mhalos\u001b[0m\u001b[0;34m[\u001b[0m\u001b[0;34m:\u001b[0m\u001b[0;34m,\u001b[0m \u001b[0;36m1\u001b[0m\u001b[0;34m:\u001b[0m\u001b[0;34m]\u001b[0m \u001b[0;34m*\u001b[0m \u001b[0;36m256\u001b[0m\u001b[0;34m)\u001b[0m\u001b[0;34m.\u001b[0m\u001b[0mastype\u001b[0m\u001b[0;34m(\u001b[0m\u001b[0mint\u001b[0m\u001b[0;34m)\u001b[0m\u001b[0;34m\u001b[0m\u001b[0;34m\u001b[0m\u001b[0m\n\u001b[1;32m      4\u001b[0m \u001b[0mhalo_mass\u001b[0m \u001b[0;34m=\u001b[0m \u001b[0mhalos\u001b[0m\u001b[0;34m[\u001b[0m\u001b[0;34m:\u001b[0m\u001b[0;34m,\u001b[0m \u001b[0;36m0\u001b[0m\u001b[0;34m]\u001b[0m\u001b[0;34m\u001b[0m\u001b[0;34m\u001b[0m\u001b[0m\n\u001b[1;32m      5\u001b[0m \u001b[0midx\u001b[0m \u001b[0;34m=\u001b[0m \u001b[0mnp\u001b[0m\u001b[0;34m.\u001b[0m\u001b[0mwhere\u001b[0m\u001b[0;34m(\u001b[0m\u001b[0mhalo_pos\u001b[0m\u001b[0;34m[\u001b[0m\u001b[0;34m:\u001b[0m\u001b[0;34m,\u001b[0m \u001b[0;36m2\u001b[0m\u001b[0;34m]\u001b[0m \u001b[0;34m==\u001b[0m \u001b[0;36m127\u001b[0m\u001b[0;34m)\u001b[0m\u001b[0;34m[\u001b[0m\u001b[0;36m0\u001b[0m\u001b[0;34m]\u001b[0m\u001b[0;34m\u001b[0m\u001b[0;34m\u001b[0m\u001b[0m\n",
      "\u001b[0;32m/usr/local/lib/python3.7/site-packages/numpy/lib/npyio.py\u001b[0m in \u001b[0;36mloadtxt\u001b[0;34m(fname, dtype, comments, delimiter, converters, skiprows, usecols, unpack, ndmin, encoding, max_rows)\u001b[0m\n\u001b[1;32m   1132\u001b[0m         \u001b[0;31m# converting the data\u001b[0m\u001b[0;34m\u001b[0m\u001b[0;34m\u001b[0m\u001b[0;34m\u001b[0m\u001b[0m\n\u001b[1;32m   1133\u001b[0m         \u001b[0mX\u001b[0m \u001b[0;34m=\u001b[0m \u001b[0;32mNone\u001b[0m\u001b[0;34m\u001b[0m\u001b[0;34m\u001b[0m\u001b[0m\n\u001b[0;32m-> 1134\u001b[0;31m         \u001b[0;32mfor\u001b[0m \u001b[0mx\u001b[0m \u001b[0;32min\u001b[0m \u001b[0mread_data\u001b[0m\u001b[0;34m(\u001b[0m\u001b[0m_loadtxt_chunksize\u001b[0m\u001b[0;34m)\u001b[0m\u001b[0;34m:\u001b[0m\u001b[0;34m\u001b[0m\u001b[0;34m\u001b[0m\u001b[0m\n\u001b[0m\u001b[1;32m   1135\u001b[0m             \u001b[0;32mif\u001b[0m \u001b[0mX\u001b[0m \u001b[0;32mis\u001b[0m \u001b[0;32mNone\u001b[0m\u001b[0;34m:\u001b[0m\u001b[0;34m\u001b[0m\u001b[0;34m\u001b[0m\u001b[0m\n\u001b[1;32m   1136\u001b[0m                 \u001b[0mX\u001b[0m \u001b[0;34m=\u001b[0m \u001b[0mnp\u001b[0m\u001b[0;34m.\u001b[0m\u001b[0marray\u001b[0m\u001b[0;34m(\u001b[0m\u001b[0mx\u001b[0m\u001b[0;34m,\u001b[0m \u001b[0mdtype\u001b[0m\u001b[0;34m)\u001b[0m\u001b[0;34m\u001b[0m\u001b[0;34m\u001b[0m\u001b[0m\n",
      "\u001b[0;32m/usr/local/lib/python3.7/site-packages/numpy/lib/npyio.py\u001b[0m in \u001b[0;36mread_data\u001b[0;34m(chunk_size)\u001b[0m\n\u001b[1;32m   1059\u001b[0m \u001b[0;34m\u001b[0m\u001b[0m\n\u001b[1;32m   1060\u001b[0m             \u001b[0;31m# Convert each value according to its column and store\u001b[0m\u001b[0;34m\u001b[0m\u001b[0;34m\u001b[0m\u001b[0;34m\u001b[0m\u001b[0m\n\u001b[0;32m-> 1061\u001b[0;31m             \u001b[0mitems\u001b[0m \u001b[0;34m=\u001b[0m \u001b[0;34m[\u001b[0m\u001b[0mconv\u001b[0m\u001b[0;34m(\u001b[0m\u001b[0mval\u001b[0m\u001b[0;34m)\u001b[0m \u001b[0;32mfor\u001b[0m \u001b[0;34m(\u001b[0m\u001b[0mconv\u001b[0m\u001b[0;34m,\u001b[0m \u001b[0mval\u001b[0m\u001b[0;34m)\u001b[0m \u001b[0;32min\u001b[0m \u001b[0mzip\u001b[0m\u001b[0;34m(\u001b[0m\u001b[0mconverters\u001b[0m\u001b[0;34m,\u001b[0m \u001b[0mvals\u001b[0m\u001b[0;34m)\u001b[0m\u001b[0;34m]\u001b[0m\u001b[0;34m\u001b[0m\u001b[0;34m\u001b[0m\u001b[0m\n\u001b[0m\u001b[1;32m   1062\u001b[0m \u001b[0;34m\u001b[0m\u001b[0m\n\u001b[1;32m   1063\u001b[0m             \u001b[0;31m# Then pack it according to the dtype's nesting\u001b[0m\u001b[0;34m\u001b[0m\u001b[0;34m\u001b[0m\u001b[0;34m\u001b[0m\u001b[0m\n",
      "\u001b[0;31mKeyboardInterrupt\u001b[0m: "
     ]
    }
   ],
   "source": [
    "z = 7.2\n",
    "halos = np.loadtxt('../../data/halos_z7.20_768_200Mpc')\n",
    "halo_pos = (halos[:, 1:] * 256).astype(int)\n",
    "halo_mass = halos[:, 0]\n",
    "idx = np.where(halo_pos[:, 2] == 127)[0]\n",
    "lya_cube = cube_3d_I(halo_mass, z)"
   ]
  },
  {
   "cell_type": "code",
   "execution_count": null,
   "metadata": {},
   "outputs": [],
   "source": [
    "ps_Lya, k_Lya = get_power(lya_cube, 200, bins = 14, log_bins = True)\n",
    "nu_I = I(z)"
   ]
  },
  {
   "cell_type": "code",
   "execution_count": null,
   "metadata": {},
   "outputs": [],
   "source": [
    "f = '../../data/delta_T_v3_z007.20_nf0.283460_useTs1_256_200Mpc'\n",
    "data_cube = load_binary_data(f)\n",
    "dc = data_cube.reshape((256,256,256))"
   ]
  },
  {
   "cell_type": "code",
   "execution_count": null,
   "metadata": {},
   "outputs": [],
   "source": [
    "ps_21, k_21, var = get_power(dc, 200, bins = 14, \n",
    "                        log_bins = True, dimensionless = True, get_variance=True)\n",
    "\n",
    "delta = k_21 ** 3 * ps_21 / (2 * np.pi ** 2)\n",
    "delta_dim = I_21(dc.mean() * u.mK, z) ** 2 * delta"
   ]
  },
  {
   "cell_type": "code",
   "execution_count": null,
   "metadata": {},
   "outputs": [],
   "source": [
    "plt.figure(figsize=(10,6))\n",
    "plt.errorbar(k_21, k_21 ** 3 * ps_21, yerr = k_21 ** 3 * np.sqrt(var), color = 'lightblue', ecolor = 'k',\n",
    "             fmt = 'o', capsize=2, elinewidth=1)\n",
    "plt.xscale('log')\n",
    "plt.yscale('log')\n",
    "plt.ylim([10, 1e4])\n",
    "plt.show()"
   ]
  },
  {
   "cell_type": "code",
   "execution_count": null,
   "metadata": {},
   "outputs": [],
   "source": [
    "x_power, k = get_power(lya_cube, 200, deltax2 = dc, dimensionless=True,\n",
    "                       log_bins = True, bins = 14)\n",
    "delta_x = k ** 3 * x_power / (2 * np.pi ** 2)\n",
    "delta_dim_x = I_21(dc.mean() * u.mK, z) * nu_I * delta_x"
   ]
  },
  {
   "cell_type": "code",
   "execution_count": null,
   "metadata": {},
   "outputs": [],
   "source": [
    "delta_lya = nu_I ** 2 * ps_Lya * k_Lya ** 3 / (2 * np.pi ** 2)"
   ]
  },
  {
   "cell_type": "code",
   "execution_count": null,
   "metadata": {},
   "outputs": [],
   "source": [
    "#np.save('ccc_{}'.format(z), np.array(delta_dim_x / np.sqrt(delta_dim * delta_lya)))"
   ]
  },
  {
   "cell_type": "code",
   "execution_count": null,
   "metadata": {},
   "outputs": [],
   "source": [
    "plt.figure(figsize = (10,6))\n",
    "plt.scatter(k, delta_dim_x / np.sqrt(delta_dim * delta_lya), color = 'darkorange')\n",
    "plt.ylim([-1, 1.5])\n",
    "plt.xlabel('k [Mpc$^{-1}$]')\n",
    "plt.ylabel(r'$\\Delta ({\\rm k})$ [erg/s/cm$^2$/sr]')\n",
    "plt.xscale('log')\n",
    "plt.grid()\n",
    "plt.show()"
   ]
  },
  {
   "cell_type": "markdown",
   "metadata": {},
   "source": [
    "## Diffuse IGM Emission"
   ]
  },
  {
   "cell_type": "code",
   "execution_count": 49,
   "metadata": {},
   "outputs": [],
   "source": [
    "def n_rec_dot(T_k, x, delta_x, z):\n",
    "    \"\"\"\n",
    "    \"\"\"\n",
    "    return alpha(T_k, z) * n_e(x, delta_x, z) * n_HII(x, delta_x, z)\n",
    "\n",
    "def n_e(x, delta_x, z):\n",
    "    \"\"\"\n",
    "    \"\"\"\n",
    "    return x * n_b(delta_x, z)\n",
    "\n",
    "def n_b(delta_x, z, n_b0 = 1.905e-7 * u.cm ** -3):\n",
    "    \"\"\"\n",
    "    \"\"\"\n",
    "    return delta_x * (1 + z) ** 3 * n_b0\n",
    "\n",
    "def n_HII(x, delta_x, z, Y_He = 0.24):\n",
    "    \"\"\"\n",
    "    \"\"\"\n",
    "    return n_e(x, delta_x, z) * (4. - 4. * Y_He) / (4. - 3 * Y_He)\n",
    "\n",
    "def alpha(T_k, z):\n",
    "    \"\"\"\n",
    "    Recombination coefficient\n",
    "    \"\"\"\n",
    "    #T_k = 1e4\n",
    "    units = u.cm ** 3 / u.s\n",
    "    return 4.2e-13 * (T_k / 1e4) ** -0.7 * (1 + z) ** 3 * units\n",
    "\n",
    "def L_diffuse(T_k, x, delta_x, z, f_rec = 0.66):\n",
    "    \"\"\"\n",
    "    \"\"\"\n",
    "    E_lya = 1.637e-11 * u.erg\n",
    "    return f_rec * n_rec_dot(T_k, x, delta_x, z) * E_lya\n",
    "\n",
    "def I_diffuse(T_k, x, delta_x, z):\n",
    "    \"\"\"\n",
    "    \"\"\"\n",
    "    c = y(z) * cosmo.comoving_transverse_distance(z) ** 2 / (4 * np.pi * cosmo.luminosity_distance(z) ** 2)\n",
    "    nu = 2.47e15 / u.s / (1 + z)\n",
    "    return (L_diffuse(T_k, x, delta_x, z) * c * nu).to(u.erg / u.cm ** 2 / u.s)"
   ]
  },
  {
   "cell_type": "code",
   "execution_count": 53,
   "metadata": {},
   "outputs": [
    {
     "data": {
      "text/latex": [
       "$6 \\; \\mathrm{}$"
      ],
      "text/plain": [
       "<Quantity 6.>"
      ]
     },
     "execution_count": 53,
     "metadata": {},
     "output_type": "execute_result"
    }
   ],
   "source": [
    "cosmo.comoving_transverse_distance(z) / cosmo.angular_diameter_distance(z) - 1."
   ]
  },
  {
   "cell_type": "code",
   "execution_count": null,
   "metadata": {},
   "outputs": [],
   "source": [
    "delta_x = load_binary_data('../../data/updated_smoothed_deltax_z007.20_256_200Mpc')\n",
    "delta_x = np.reshape(delta_x, (256, 256, 256))\n",
    "\n",
    "T_k = load_binary_data('../../data/Ts_z008.06_L_X3.2e+40_alphaX1.0_f_star0.0500_alpha_star0.5000_f_esc0.1000_alpha_esc-0.5000_Mturn5.0e+08_t_star0.5000_Pop2_256_200Mpc')\n",
    "T_k = np.reshape(T_k, (256, 256, 256))\n",
    "\n",
    "x_i = load_binary_data('../../data/xH_z007.04_nf0.233584_Fstar0.0500_starPL0.5000_Fesc0.1000_escPL-0.5000_Mturn5.00e+08_HIIfilter1_RHIImax50_256_200Mpc')\n",
    "x_i = np.reshape(x_i, (256, 256, 256))\n",
    "\n"
   ]
  },
  {
   "cell_type": "code",
   "execution_count": null,
   "metadata": {},
   "outputs": [],
   "source": [
    "diff_cube = I_diffuse(T_k, 1 - x_i, delta_x, z = 8.06) "
   ]
  },
  {
   "cell_type": "code",
   "execution_count": null,
   "metadata": {},
   "outputs": [],
   "source": [
    "plt.figure(figsize=(15,7))\n",
    "\n",
    "plt.subplot(121)\n",
    "plt.imshow(gaussian_filter(diff_cube[:, :, 128].value, 0.5), norm = SymLogNorm(1e-9, vmax = 3e-7), cmap = 'inferno')\n",
    "\n",
    "plt.subplot(122)\n",
    "plt.imshow(lya_cube[:, :, 128], norm = SymLogNorm(1e-8, vmax = 1e-6), cmap = 'inferno')\n",
    "\n",
    "plt.show()"
   ]
  },
  {
   "cell_type": "code",
   "execution_count": 42,
   "metadata": {},
   "outputs": [
    {
     "ename": "NameError",
     "evalue": "name 'cube' is not defined",
     "output_type": "error",
     "traceback": [
      "\u001b[0;31m---------------------------------------------------------------------------\u001b[0m",
      "\u001b[0;31mNameError\u001b[0m                                 Traceback (most recent call last)",
      "\u001b[0;32m<ipython-input-42-14546375e669>\u001b[0m in \u001b[0;36m<module>\u001b[0;34m\u001b[0m\n\u001b[0;32m----> 1\u001b[0;31m \u001b[0mccc_dif\u001b[0m\u001b[0;34m,\u001b[0m \u001b[0mk\u001b[0m \u001b[0;34m=\u001b[0m \u001b[0mxcorr\u001b[0m\u001b[0;34m.\u001b[0m\u001b[0mr\u001b[0m\u001b[0;34m(\u001b[0m\u001b[0mdiff_cube\u001b[0m\u001b[0;34m,\u001b[0m \u001b[0mdc\u001b[0m\u001b[0;34m,\u001b[0m \u001b[0;36m200\u001b[0m\u001b[0;34m,\u001b[0m \u001b[0mbins\u001b[0m \u001b[0;34m=\u001b[0m \u001b[0;36m14\u001b[0m\u001b[0;34m,\u001b[0m \u001b[0mlog_bins\u001b[0m \u001b[0;34m=\u001b[0m \u001b[0;32mTrue\u001b[0m\u001b[0;34m)\u001b[0m\u001b[0;34m\u001b[0m\u001b[0;34m\u001b[0m\u001b[0m\n\u001b[0m\u001b[1;32m      2\u001b[0m \u001b[0mccc_lya\u001b[0m\u001b[0;34m,\u001b[0m \u001b[0mk\u001b[0m \u001b[0;34m=\u001b[0m \u001b[0mxcorr\u001b[0m\u001b[0;34m.\u001b[0m\u001b[0mr\u001b[0m\u001b[0;34m(\u001b[0m\u001b[0mlya_cube\u001b[0m\u001b[0;34m,\u001b[0m \u001b[0mdc\u001b[0m\u001b[0;34m,\u001b[0m \u001b[0;36m200\u001b[0m\u001b[0;34m,\u001b[0m \u001b[0mbins\u001b[0m \u001b[0;34m=\u001b[0m \u001b[0;36m14\u001b[0m\u001b[0;34m,\u001b[0m \u001b[0mlog_bins\u001b[0m \u001b[0;34m=\u001b[0m \u001b[0;32mTrue\u001b[0m\u001b[0;34m)\u001b[0m\u001b[0;34m\u001b[0m\u001b[0;34m\u001b[0m\u001b[0m\n\u001b[1;32m      3\u001b[0m \u001b[0mccc_both\u001b[0m\u001b[0;34m,\u001b[0m \u001b[0mk\u001b[0m \u001b[0;34m=\u001b[0m \u001b[0mxcorr\u001b[0m\u001b[0;34m.\u001b[0m\u001b[0mr\u001b[0m\u001b[0;34m(\u001b[0m\u001b[0mlya_cube\u001b[0m \u001b[0;34m+\u001b[0m \u001b[0mdiff_cube\u001b[0m\u001b[0;34m.\u001b[0m\u001b[0mvalue\u001b[0m\u001b[0;34m,\u001b[0m \u001b[0mdc\u001b[0m\u001b[0;34m,\u001b[0m \u001b[0;36m200\u001b[0m\u001b[0;34m,\u001b[0m \u001b[0mbins\u001b[0m \u001b[0;34m=\u001b[0m \u001b[0;36m14\u001b[0m\u001b[0;34m,\u001b[0m \u001b[0mlog_bins\u001b[0m \u001b[0;34m=\u001b[0m \u001b[0;32mTrue\u001b[0m\u001b[0;34m)\u001b[0m\u001b[0;34m\u001b[0m\u001b[0;34m\u001b[0m\u001b[0m\n",
      "\u001b[0;32m~/Research/HERA/Cross_Correlation/Senior_Thesis/notebooks/xcorr.py\u001b[0m in \u001b[0;36mr\u001b[0;34m(deltax, deltax2, boxlength, get_variance, **kwargs)\u001b[0m\n\u001b[1;32m    342\u001b[0m     \u001b[0mCross\u001b[0m\u001b[0;34m-\u001b[0m\u001b[0mcorrelation\u001b[0m \u001b[0mcoefficient\u001b[0m\u001b[0;34m\u001b[0m\u001b[0;34m\u001b[0m\u001b[0m\n\u001b[1;32m    343\u001b[0m     \"\"\"\n\u001b[0;32m--> 344\u001b[0;31m     \u001b[0mPS_1\u001b[0m\u001b[0;34m,\u001b[0m \u001b[0mk\u001b[0m \u001b[0;34m=\u001b[0m \u001b[0mpower_spectra\u001b[0m\u001b[0;34m(\u001b[0m\u001b[0mdeltax\u001b[0m\u001b[0;34m,\u001b[0m \u001b[0mboxlength\u001b[0m\u001b[0;34m,\u001b[0m \u001b[0;34m**\u001b[0m\u001b[0mkwargs\u001b[0m\u001b[0;34m)\u001b[0m\u001b[0;34m\u001b[0m\u001b[0;34m\u001b[0m\u001b[0m\n\u001b[0m\u001b[1;32m    345\u001b[0m     \u001b[0mPS_2\u001b[0m\u001b[0;34m,\u001b[0m \u001b[0m_\u001b[0m \u001b[0;34m=\u001b[0m \u001b[0mpower_spectra\u001b[0m\u001b[0;34m(\u001b[0m\u001b[0mdeltax2\u001b[0m\u001b[0;34m,\u001b[0m \u001b[0mboxlength\u001b[0m\u001b[0;34m,\u001b[0m \u001b[0;34m**\u001b[0m\u001b[0mkwargs\u001b[0m\u001b[0;34m)\u001b[0m\u001b[0;34m\u001b[0m\u001b[0;34m\u001b[0m\u001b[0m\n\u001b[1;32m    346\u001b[0m     \u001b[0mPS_x\u001b[0m\u001b[0;34m,\u001b[0m \u001b[0m_\u001b[0m \u001b[0;34m=\u001b[0m \u001b[0mpower_spectra\u001b[0m\u001b[0;34m(\u001b[0m\u001b[0mdeltax\u001b[0m\u001b[0;34m,\u001b[0m \u001b[0mboxlength\u001b[0m\u001b[0;34m,\u001b[0m \u001b[0mdeltax2\u001b[0m \u001b[0;34m=\u001b[0m \u001b[0mdeltax2\u001b[0m\u001b[0;34m,\u001b[0m \u001b[0;34m**\u001b[0m\u001b[0mkwargs\u001b[0m\u001b[0;34m)\u001b[0m\u001b[0;34m\u001b[0m\u001b[0;34m\u001b[0m\u001b[0m\n",
      "\u001b[0;32m~/Research/HERA/Cross_Correlation/Senior_Thesis/notebooks/xcorr.py\u001b[0m in \u001b[0;36mpower_spectra\u001b[0;34m(deltax, boxlength, get_variance, deltax2, **kwargs)\u001b[0m\n\u001b[1;32m    301\u001b[0m \u001b[0;34m\u001b[0m\u001b[0m\n\u001b[1;32m    302\u001b[0m \u001b[0;34m\u001b[0m\u001b[0m\n\u001b[0;32m--> 303\u001b[0;31m     \u001b[0mdeltax\u001b[0m \u001b[0;34m=\u001b[0m \u001b[0mcube\u001b[0m \u001b[0;34m/\u001b[0m \u001b[0mcube\u001b[0m\u001b[0;34m.\u001b[0m\u001b[0mmean\u001b[0m\u001b[0;34m(\u001b[0m\u001b[0;34m)\u001b[0m \u001b[0;34m-\u001b[0m \u001b[0;36m1.\u001b[0m\u001b[0;34m\u001b[0m\u001b[0;34m\u001b[0m\u001b[0m\n\u001b[0m\u001b[1;32m    304\u001b[0m \u001b[0;34m\u001b[0m\u001b[0m\n\u001b[1;32m    305\u001b[0m     \u001b[0;32mif\u001b[0m \u001b[0mdeltax2\u001b[0m \u001b[0;32mis\u001b[0m \u001b[0;32mNone\u001b[0m\u001b[0;34m:\u001b[0m\u001b[0;34m\u001b[0m\u001b[0;34m\u001b[0m\u001b[0m\n",
      "\u001b[0;31mNameError\u001b[0m: name 'cube' is not defined"
     ]
    }
   ],
   "source": [
    "ccc_dif, k = xcorr.r(diff_cube, dc, 200, bins = 14, log_bins = True)\n",
    "ccc_lya, k = xcorr.r(lya_cube, dc, 200, bins = 14, log_bins = True)\n",
    "ccc_both, k = xcorr.r(lya_cube + diff_cube.value, dc, 200, bins = 14, log_bins = True)"
   ]
  },
  {
   "cell_type": "code",
   "execution_count": 21,
   "metadata": {},
   "outputs": [
    {
     "data": {
      "image/png": "[encoded data removed]",
      "text/plain": [
       "<Figure size 720x432 with 1 Axes>"
      ]
     },
     "metadata": {
      "needs_background": "light"
     },
     "output_type": "display_data"
    }
   ],
   "source": [
    "plt.figure(figsize = (10, 6))\n",
    "plt.scatter(k, ccc_dif)\n",
    "plt.scatter(k, ccc_lya)\n",
    "plt.scatter(k, ccc_both)\n",
    "plt.xscale('log')\n",
    "plt.show()"
   ]
  },
  {
   "cell_type": "code",
   "execution_count": 41,
   "metadata": {},
   "outputs": [
    {
     "ename": "NameError",
     "evalue": "name 'ccc_dif' is not defined",
     "output_type": "error",
     "traceback": [
      "\u001b[0;31m---------------------------------------------------------------------------\u001b[0m",
      "\u001b[0;31mNameError\u001b[0m                                 Traceback (most recent call last)",
      "\u001b[0;32m<ipython-input-41-5606f283a027>\u001b[0m in \u001b[0;36m<module>\u001b[0;34m\u001b[0m\n\u001b[1;32m      1\u001b[0m \u001b[0mplt\u001b[0m\u001b[0;34m.\u001b[0m\u001b[0mfigure\u001b[0m\u001b[0;34m(\u001b[0m\u001b[0mfigsize\u001b[0m \u001b[0;34m=\u001b[0m \u001b[0;34m(\u001b[0m\u001b[0;36m10\u001b[0m\u001b[0;34m,\u001b[0m \u001b[0;36m6\u001b[0m\u001b[0;34m)\u001b[0m\u001b[0;34m)\u001b[0m\u001b[0;34m\u001b[0m\u001b[0;34m\u001b[0m\u001b[0m\n\u001b[0;32m----> 2\u001b[0;31m \u001b[0mplt\u001b[0m\u001b[0;34m.\u001b[0m\u001b[0mscatter\u001b[0m\u001b[0;34m(\u001b[0m\u001b[0mk\u001b[0m\u001b[0;34m,\u001b[0m \u001b[0;34m(\u001b[0m\u001b[0mccc_dif\u001b[0m \u001b[0;34m+\u001b[0m \u001b[0mccc_lya\u001b[0m\u001b[0;34m)\u001b[0m \u001b[0;34m/\u001b[0m \u001b[0;36m2.\u001b[0m\u001b[0;34m)\u001b[0m\u001b[0;34m\u001b[0m\u001b[0;34m\u001b[0m\u001b[0m\n\u001b[0m\u001b[1;32m      3\u001b[0m \u001b[0mplt\u001b[0m\u001b[0;34m.\u001b[0m\u001b[0mscatter\u001b[0m\u001b[0;34m(\u001b[0m\u001b[0mk\u001b[0m\u001b[0;34m,\u001b[0m \u001b[0mccc_both\u001b[0m\u001b[0;34m)\u001b[0m\u001b[0;34m\u001b[0m\u001b[0;34m\u001b[0m\u001b[0m\n\u001b[1;32m      4\u001b[0m \u001b[0mplt\u001b[0m\u001b[0;34m.\u001b[0m\u001b[0mxscale\u001b[0m\u001b[0;34m(\u001b[0m\u001b[0;34m'log'\u001b[0m\u001b[0;34m)\u001b[0m\u001b[0;34m\u001b[0m\u001b[0;34m\u001b[0m\u001b[0m\n\u001b[1;32m      5\u001b[0m \u001b[0mplt\u001b[0m\u001b[0;34m.\u001b[0m\u001b[0mylim\u001b[0m\u001b[0;34m(\u001b[0m\u001b[0;34m[\u001b[0m\u001b[0;34m-\u001b[0m\u001b[0;36m1\u001b[0m\u001b[0;34m,\u001b[0m \u001b[0;36m1\u001b[0m\u001b[0;34m]\u001b[0m\u001b[0;34m)\u001b[0m\u001b[0;34m\u001b[0m\u001b[0;34m\u001b[0m\u001b[0m\n",
      "\u001b[0;31mNameError\u001b[0m: name 'ccc_dif' is not defined"
     ]
    },
    {
     "data": {
      "text/plain": [
       "<Figure size 720x432 with 0 Axes>"
      ]
     },
     "metadata": {},
     "output_type": "display_data"
    }
   ],
   "source": [
    "plt.figure(figsize = (10, 6))\n",
    "plt.scatter(k, (ccc_dif + ccc_lya) / 2.)\n",
    "plt.scatter(k, ccc_both)\n",
    "plt.xscale('log')\n",
    "plt.ylim([-1, 1])\n",
    "plt.show()"
   ]
  },
  {
   "cell_type": "markdown",
   "metadata": {},
   "source": [
    "## Scattered IGM Emission"
   ]
  },
  {
   "cell_type": "code",
   "execution_count": null,
   "metadata": {},
   "outputs": [],
   "source": [
    "def "
   ]
  }
 ],
 "metadata": {
  "kernelspec": {
   "display_name": "Python 3",
   "language": "python",
   "name": "python3"
  },
  "language_info": {
   "codemirror_mode": {
    "name": "ipython",
    "version": 3
   },
   "file_extension": ".py",
   "mimetype": "text/x-python",
   "name": "python",
   "nbconvert_exporter": "python",
   "pygments_lexer": "ipython3",
   "version": "3.7.3"
  }
 },
 "nbformat": 4,
 "nbformat_minor": 2
}
