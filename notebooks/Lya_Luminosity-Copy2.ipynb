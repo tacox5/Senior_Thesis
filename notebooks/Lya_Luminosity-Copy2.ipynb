{
 "cells": [
  {
   "cell_type": "markdown",
   "metadata": {},
   "source": [
    "# Ly$\\alpha$ Luminosities"
   ]
  },
  {
   "cell_type": "code",
   "execution_count": 1,
   "metadata": {},
   "outputs": [],
   "source": [
    "import sys\n",
    "import glob\n",
    "import numpy as np\n",
    "import astropy.units as u\n",
    "from scipy.interpolate import interp1d\n",
    "import matplotlib.pyplot as plt\n",
    "import matplotlib\n",
    "from matplotlib.colors import SymLogNorm\n",
    "from astropy.cosmology import Planck15 as cosmo\n",
    "from astropy import constants as const\n",
    "from powerbox.powerbox import get_power\n",
    "from hmf import MassFunction\n",
    "from twentyonecmFAST import load_binary_data\n",
    "from scipy.ndimage.filters import gaussian_filter\n",
    "\n",
    "plt.rc('font', family='serif')"
   ]
  },
  {
   "cell_type": "markdown",
   "metadata": {},
   "source": [
    "## Helpful Functions"
   ]
  },
  {
   "cell_type": "code",
   "execution_count": 2,
   "metadata": {},
   "outputs": [],
   "source": [
    "def star_formation_rate(M, z = 7, sim_num = 1):\n",
    "    '''\n",
    "    Returns the star-formation rate for a dark-matter halo of a given mass and redshift\n",
    "    \n",
    "    Units: M_sun per year\n",
    "    \n",
    "    \n",
    "    Note: Zero-out redshift for now. Other versions of this equation use redshift but the current\n",
    "          sim that I am basing this equation off of does not use redshift.\n",
    "    \n",
    "    https://arxiv.org/pdf/1205.1493.pdf\n",
    "    \n",
    "    '''\n",
    "\n",
    "    if sim_num == 1:\n",
    "        a, b, d, c1, c2 = 2.8, -0.94, -1.7, 1e9, 7e10\n",
    "        sfr = 2.8e-28 * (M ** a) * (1.0 + M / c1) ** b * (1.0 + M / c2) ** d\n",
    "        \n",
    "    if sim_num == 2:\n",
    "        a, b, d, e, c1, c2, c3 = 2.59, -0.62, 0.4, -2.25, 8e8, 7e9, 1e11\n",
    "        sfr = 1.6e-26 * (M ** a) * (1.0 + M / c1) ** b * (1.0 + M / c2) ** d * (1.0 + M / c3) ** e\n",
    "        \n",
    "    if sim_num == 3:\n",
    "        a, b, d, e, c1, c2, c3 = 2.59, -0.62, 0.4, -2.25, 8e8, 7e9, 1e11\n",
    "        sfr = 2.25e-26 * (1.0 + 0.075 * (z-7)) * (M ** a) * (1.0 + M / c1) ** b * (1.0 + M / c2) ** d * (1.0 + M / c3) ** e\n",
    "    \n",
    "    return sfr * u.M_sun / u.year"
   ]
  },
  {
   "cell_type": "code",
   "execution_count": 3,
   "metadata": {},
   "outputs": [],
   "source": [
    "def f_lya(z, C_dust = 3.34, zeta = 2.57):\n",
    "    '''\n",
    "    Fraction of lyman-alpha photons not absorbed by dust\n",
    "    \n",
    "    https://arxiv.org/pdf/1010.4796.pdf\n",
    "    '''\n",
    "    return C_dust * 1e-3 * (1.0 + z) ** zeta\n",
    "\n",
    "def f_esc(M,z):\n",
    "    '''\n",
    "    Escape fraction of ionizing photons\n",
    "    '''\n",
    "    def alpha(z):\n",
    "        '''\n",
    "        Alpha/beta values found in:\n",
    "\n",
    "        https://arxiv.org/pdf/0903.2045.pdf\n",
    "        '''\n",
    "        zs = np.array([10.4,8.2,6.7,5.7,5.0,4.4])\n",
    "        a = np.array([2.78e-2, 1.30e-2, 5.18e-3, 3.42e-3, 6.68e-5, 4.44e-5])\n",
    "        b = np.array([0.105, 0.179, 0.244, 0.262, 0.431, 0.454])\n",
    "        fa = interp1d(zs, a, kind = 'cubic')\n",
    "        fb = interp1d(zs, b, kind = 'cubic')\n",
    "        return (fa(z), fb(z))\n",
    "    \n",
    "    a, b = alpha(z)\n",
    "    return np.exp(-a * M ** b)\n",
    "\n",
    "def L_gal_rec(M, z, sim_num = 1):\n",
    "    \"\"\"\n",
    "    Luminosity due to galactic recombinations\n",
    "    \"\"\"\n",
    "    sf_rate = star_formation_rate(M, z = z, sim_num = sim_num)\n",
    "    return 1.55e42 * (1 - f_esc(M, z)) * f_lya(z) * sf_rate * u.erg / u.s * u.year / u.Msun\n",
    "\n",
    "def L_gal_exc(M, z, sim_num = 1):\n",
    "    \"\"\"\n",
    "    Luminosity due to galactic excitations\n",
    "    \"\"\"\n",
    "    sf_rate = star_formation_rate(M, z = z, sim_num = sim_num)\n",
    "    return 4.03e41 * f_lya(z) * (1 - f_esc(M, z)) * sf_rate * u.erg / u.s * u.year / u.Msun\n",
    "\n",
    "def L_gal(M, z, sim_num = 1):\n",
    "    return L_gal_exc(M, z, sim_num = sim_num) + L_gal_rec(M, z, sim_num = sim_num)\n",
    "\n",
    "\n",
    "def big_I(M, z, n = 256.):\n",
    "    c = y(z) * cosmo.comoving_transverse_distance(z) ** 2 / (4 * np.pi * cosmo.luminosity_distance(z) ** 2)\n",
    "    L_val = L_gal(M, z)\n",
    "    V = (200. * u.Mpc / n) ** 3\n",
    "    nu = 2.47e15 / u.s / (1 + z)\n",
    "    return (nu * c * L_val / V).to(u.erg / u.cm ** 2 / u.s)"
   ]
  },
  {
   "cell_type": "code",
   "execution_count": 4,
   "metadata": {},
   "outputs": [],
   "source": [
    "def H(z):\n",
    "    '''\n",
    "    Returns astropy Hubble constant at given redshift\n",
    "    \n",
    "    Units: km Mpc^-1 s^-1\n",
    "    '''\n",
    "    return cosmo.H(z)\n",
    "\n",
    "def y(z):\n",
    "    '''\n",
    "    wl_lya -> Lyman-alpha wavelength in units of km\n",
    "    \n",
    "    Returns value in units of Mpc s\n",
    "    '''\n",
    "    l_lya = 1.215e-7 * u.m \n",
    "    return l_lya * (1.0 + z) ** 2 / H(z)\n",
    "\n",
    "def I(z, L = L_gal, n = 5000, sim_num = 1):\n",
    "    \"\"\" Mean Lyman Alpha Intensity\n",
    "    \"\"\"\n",
    "    dlog10m = (13 - 8.) / n\n",
    "    c = y(z) * cosmo.comoving_transverse_distance(z) ** 2 / (4 * np.pi * cosmo.luminosity_distance(z) ** 2)\n",
    "    h = MassFunction(z = z, Mmin = 8, Mmax = 13, hmf_model = 'SMT', dlog10m = dlog10m)\n",
    "    M = h.m * cosmo.h\n",
    "    dM = np.diff(M)\n",
    "    nu = 2.47e15 / u.s / (1 + z)\n",
    "    dndm = h.dndm[1:] * u.Mpc ** -3\n",
    "    nu_I = nu * np.sum(dndm * dM * L(M[1:], z, sim_num = sim_num) * c)\n",
    "    return nu_I.to(u.erg / u.cm ** 2 / u.s)\n",
    "    \n",
    "def cube_3d_I(M, z, L = L_gal, n = 256):\n",
    "    lya_field = np.zeros((n, n, n))\n",
    "    I_vals = big_I(M, z, n = n).value\n",
    "    lya_field[halo_pos[:, 0], halo_pos[:, 1], halo_pos[:, 2]] += I_vals\n",
    "    return lya_field"
   ]
  },
  {
   "cell_type": "code",
   "execution_count": 5,
   "metadata": {},
   "outputs": [],
   "source": [
    "def I_21(T, z):\n",
    "    \"\"\"\n",
    "    Convert mean brightness temperature to a surface brightness\n",
    "    \"\"\"\n",
    "    nu = 1420 * u.MHz / (z + 1)\n",
    "    I = 2. * const.h * nu ** 3 / const.c ** 2 * 1.0 / (np.exp(const.h * nu / (const.k_B * T)) - 1)\n",
    "    return (nu * I).to(u.erg / u.cm ** 2 / u.s)"
   ]
  },
  {
   "cell_type": "code",
   "execution_count": 6,
   "metadata": {},
   "outputs": [],
   "source": [
    "z = 8.06\n",
    "halos = np.loadtxt('../../data/halos_z8.06_768_200Mpc')\n",
    "halo_pos = (halos[:, 1:] * 256).astype(int)\n",
    "halo_mass = halos[:, 0]\n",
    "idx = np.where(halo_pos[:, 2] == 127)[0]\n",
    "lya_cube = cube_3d_I(halo_mass, z)"
   ]
  },
  {
   "cell_type": "code",
   "execution_count": 7,
   "metadata": {},
   "outputs": [],
   "source": [
    "smooved_c = gaussian_filter(lya_cube[:, :, :], 0.4)\n",
    "ps_Lya, k_Lya = get_power(lya_cube / lya_cube.mean() - 1.0, 200, bins = 14, \n",
    "                          log_bins = True)\n",
    "nu_I = I(z)"
   ]
  },
  {
   "cell_type": "code",
   "execution_count": 8,
   "metadata": {},
   "outputs": [],
   "source": [
    "ps_lya_2d, kperp, kpar = get_power(lya_cube / lya_cube.mean() - 1.0, 200, bins = 20, \n",
    "                          log_bins = True, res_ndim = 2)"
   ]
  },
  {
   "cell_type": "code",
   "execution_count": 9,
   "metadata": {},
   "outputs": [
    {
     "data": {
      "image/png": "[encoded data removed]",
      "text/plain": [
       "<Figure size 720x432 with 2 Axes>"
      ]
     },
     "metadata": {
      "needs_background": "light"
     },
     "output_type": "display_data"
    }
   ],
   "source": [
    "plt.figure(figsize = (10,6))\n",
    "plt.imshow(np.log10(ps_lya_2d[:, :]).T, aspect = 'auto', cmap = 'inferno')\n",
    "plt.colorbar()\n",
    "plt.show()"
   ]
  },
  {
   "cell_type": "code",
   "execution_count": 48,
   "metadata": {},
   "outputs": [
    {
     "data": {
      "image/png": "[encoded data removed]",
      "text/plain": [
       "<Figure size 720x432 with 1 Axes>"
      ]
     },
     "metadata": {
      "needs_background": "light"
     },
     "output_type": "display_data"
    }
   ],
   "source": [
    "plt.figure(figsize = (10,6))\n",
    "plt.scatter(k_Lya, nu_I ** 2 * k_Lya ** 3 / (2 * np.pi ** 2) * np.mean(ps_lya_2d[:, :200], axis = 1))\n",
    "#plt.plot(kperp, nu_I ** 2 * kperp ** 3 / (2 * np.pi ** 2) * np.mean(ps_lya_2d[:, :128], axis = 1), alpha = 0)\n",
    "plt.scatter(k_Lya, nu_I ** 2 * k_Lya ** 3 * ps_Lya / (2 * np.pi ** 2))\n",
    "plt.xscale('log')\n",
    "plt.yscale('log')\n",
    "plt.ylim([1e-24, 1e-8])\n",
    "plt.show()"
   ]
  },
  {
   "cell_type": "code",
   "execution_count": 19,
   "metadata": {},
   "outputs": [],
   "source": [
    "f = '../../data/delta_T_v3_z007.04_nf0.233584_useTs1_256_200Mpc'\n",
    "data_cube = load_binary_data(f)\n",
    "dc = data_cube.reshape((256,256,256))"
   ]
  },
  {
   "cell_type": "code",
   "execution_count": 39,
   "metadata": {},
   "outputs": [],
   "source": [
    "ps_21, k_21, var = get_power(dc / dc.mean() - 1, 200, bins = 14, \n",
    "                        log_bins = True, dimensionless = True, get_variance=True)\n",
    "\n",
    "delta = k_21 ** 3 * ps_21 / (2 * np.pi ** 2)\n",
    "delta_dim = I_21(dc.mean() * u.mK, z) ** 2 * delta"
   ]
  },
  {
   "cell_type": "code",
   "execution_count": 71,
   "metadata": {},
   "outputs": [
    {
     "data": {
      "image/png": "[encoded data removed]",
      "text/plain": [
       "<Figure size 720x432 with 1 Axes>"
      ]
     },
     "metadata": {
      "needs_background": "light"
     },
     "output_type": "display_data"
    }
   ],
   "source": [
    "plt.figure(figsize=(10,6))\n",
    "plt.errorbar(k_21, k_21 ** 3 * ps_21, yerr = k_21 ** 3 * np.sqrt(var), color = 'lightblue', ecolor = 'k',\n",
    "             fmt = 'o', capsize=2, elinewidth=1)\n",
    "plt.xscale('log')\n",
    "plt.yscale('log')\n",
    "plt.ylim([1, 1e3])\n",
    "plt.show()"
   ]
  },
  {
   "cell_type": "code",
   "execution_count": 73,
   "metadata": {},
   "outputs": [
    {
     "data": {
      "text/plain": [
       "(array([2.01494867e+01, 4.05002934e+01, 1.03642027e+02, 2.12928147e+02,\n",
       "        7.22012331e+02, 2.46724815e+03, 7.11490618e+03, 2.28806176e+04,\n",
       "        8.27513022e+04, 2.63456101e+05, 8.49335830e+05, 2.70482426e+06,\n",
       "        7.61572691e+06, 3.58936105e+06]),\n",
       " array([   4.48881797,    6.36398408,   10.18047283,   14.59205767,\n",
       "          26.87028715,   49.6714017 ,   84.34990327,  151.26340453,\n",
       "         287.66526071,  513.27974946,  921.59417845, 1644.63499289,\n",
       "        2759.66065134, 1894.56091192]))"
      ]
     },
     "execution_count": 73,
     "metadata": {},
     "output_type": "execute_result"
    }
   ],
   "source": [
    "ps_21 ** 2 / var, ps_21 / np.sqrt(var)"
   ]
  },
  {
   "cell_type": "code",
   "execution_count": 69,
   "metadata": {},
   "outputs": [
    {
     "data": {
      "image/png": "[encoded data removed]",
      "text/plain": [
       "<Figure size 432x288 with 1 Axes>"
      ]
     },
     "metadata": {
      "needs_background": "light"
     },
     "output_type": "display_data"
    }
   ],
   "source": [
    "plt.scatter(k, ps_21 / np.sqrt(var * 5000))\n",
    "plt.xscale('log')\n",
    "plt.show()"
   ]
  },
  {
   "cell_type": "code",
   "execution_count": null,
   "metadata": {},
   "outputs": [],
   "source": [
    "x_power, k = get_power(smooved_c / smooved_c.mean() - 1 , 200, \n",
    "                       deltax2 = dc / dc.mean() - 1, log_bins = True, bins = 14)\n",
    "delta_x = k ** 3 * x_power / (2 * np.pi ** 2)\n",
    "delta_dim_x = I_21(dc.mean() * u.mK, z) * nu_I * delta_x"
   ]
  },
  {
   "cell_type": "code",
   "execution_count": 348,
   "metadata": {},
   "outputs": [],
   "source": [
    "delta_lya = nu_I ** 2 * ps_Lya * k_Lya ** 3 / (2 * np.pi ** 2)"
   ]
  },
  {
   "cell_type": "code",
   "execution_count": 1,
   "metadata": {},
   "outputs": [
    {
     "ename": "NameError",
     "evalue": "name 'np' is not defined",
     "output_type": "error",
     "traceback": [
      "\u001b[0;31m---------------------------------------------------------------------------\u001b[0m",
      "\u001b[0;31mNameError\u001b[0m                                 Traceback (most recent call last)",
      "\u001b[0;32m<ipython-input-1-090c269b9b58>\u001b[0m in \u001b[0;36m<module>\u001b[0;34m\u001b[0m\n\u001b[0;32m----> 1\u001b[0;31m \u001b[0mnp\u001b[0m\u001b[0;34m.\u001b[0m\u001b[0msavez\u001b[0m\u001b[0;34m(\u001b[0m\u001b[0;34m'ccc_{}'\u001b[0m\u001b[0;34m.\u001b[0m\u001b[0mformat\u001b[0m\u001b[0;34m(\u001b[0m\u001b[0mz\u001b[0m\u001b[0;34m)\u001b[0m\u001b[0;34m,\u001b[0m \u001b[0mdelta_dim_x\u001b[0m \u001b[0;34m/\u001b[0m \u001b[0mnp\u001b[0m\u001b[0;34m.\u001b[0m\u001b[0msqrt\u001b[0m\u001b[0;34m(\u001b[0m\u001b[0mdelta_dim\u001b[0m \u001b[0;34m*\u001b[0m \u001b[0mdelta_lya\u001b[0m\u001b[0;34m)\u001b[0m\u001b[0;34m)\u001b[0m\u001b[0;34m\u001b[0m\u001b[0;34m\u001b[0m\u001b[0m\n\u001b[0m",
      "\u001b[0;31mNameError\u001b[0m: name 'np' is not defined"
     ]
    }
   ],
   "source": [
    "np.save('ccc_{}'.format(z), np.array(delta_dim_x / np.sqrt(delta_dim * delta_lya)))"
   ]
  },
  {
   "cell_type": "code",
   "execution_count": 349,
   "metadata": {},
   "outputs": [
    {
     "data": {
      "image/png": "[encoded data removed]",
      "text/plain": [
       "<Figure size 720x432 with 1 Axes>"
      ]
     },
     "metadata": {
      "needs_background": "light"
     },
     "output_type": "display_data"
    }
   ],
   "source": [
    "plt.figure(figsize = (10,6))\n",
    "plt.scatter(k, delta_dim_x / np.sqrt(delta_dim * delta_lya), color = 'darkorange')\n",
    "plt.ylim([-1, 1.5])\n",
    "plt.xlabel('k [Mpc$^{-1}$]')\n",
    "plt.ylabel(r'$\\Delta ({\\rm k})$ [erg/s/cm$^2$/sr]')\n",
    "plt.xscale('log')\n",
    "plt.grid()\n",
    "plt.show()"
   ]
  },
  {
   "cell_type": "markdown",
   "metadata": {},
   "source": [
    "## Diffuse IGM"
   ]
  },
  {
   "cell_type": "code",
   "execution_count": null,
   "metadata": {},
   "outputs": [],
   "source": [
    "def n_rec(x):\n",
    "    \"\"\"\n",
    "    \"\"\"\n",
    "    return "
   ]
  }
 ],
 "metadata": {
  "kernelspec": {
   "display_name": "Python 3",
   "language": "python",
   "name": "python3"
  },
  "language_info": {
   "codemirror_mode": {
    "name": "ipython",
    "version": 3
   },
   "file_extension": ".py",
   "mimetype": "text/x-python",
   "name": "python",
   "nbconvert_exporter": "python",
   "pygments_lexer": "ipython3",
   "version": "3.7.3"
  }
 },
 "nbformat": 4,
 "nbformat_minor": 2
}
