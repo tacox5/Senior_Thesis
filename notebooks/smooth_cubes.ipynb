{
 "cells": [
  {
   "cell_type": "markdown",
   "metadata": {},
   "source": [
    "# Ly$\\alpha$ Luminosities"
   ]
  },
  {
   "cell_type": "code",
   "execution_count": 13,
   "metadata": {},
   "outputs": [],
   "source": [
    "from lya_functions import *\n",
    "import matplotlib.pyplot as plt\n",
    "from twentyonecmFAST import load_binary_data\n",
    "\n",
    "plt.rc('font', family='serif')"
   ]
  },
  {
   "cell_type": "code",
   "execution_count": 14,
   "metadata": {},
   "outputs": [],
   "source": [
    "z = 7.04"
   ]
  },
  {
   "cell_type": "code",
   "execution_count": 15,
   "metadata": {},
   "outputs": [],
   "source": [
    "halos = np.loadtxt('../../data/halos_z7.04_768_200Mpc')\n",
    "halo_pos = (halos[:, 1:] * 256).astype(int)\n",
    "halo_mass = halos[:, 0]"
   ]
  },
  {
   "cell_type": "code",
   "execution_count": 23,
   "metadata": {},
   "outputs": [],
   "source": [
    "lya_cube = cube_brightness(halo_mass, halo_pos, z)\n",
    "smoothed_lya = smooth_cubes(lya_cube, z, 20. * u.cm, 1216. * u.Angstrom)"
   ]
  },
  {
   "cell_type": "code",
   "execution_count": 32,
   "metadata": {},
   "outputs": [],
   "source": [
    "d_ps, k = dimensional_ps(lya_cube, 200, bins = 14, log_bins = True, dimensionless = True)"
   ]
  },
  {
   "cell_type": "code",
   "execution_count": 33,
   "metadata": {},
   "outputs": [],
   "source": [
    "f = '../../data/delta_T_v3_z007.04_nf0.233584_useTs1_256_200Mpc'\n",
    "data_cube = load_binary_data(f)\n",
    "dc = data_cube.reshape((256,256,256))\n",
    "smoothed_21 = smooth_cubes(dc, z, 876. * u.m, 21. * u.cm)\n",
    "smoothed_21 = I_21(smoothed_21 * u.mK, z)"
   ]
  },
  {
   "cell_type": "code",
   "execution_count": 34,
   "metadata": {},
   "outputs": [],
   "source": [
    "d_ps_21, k = dimensional_ps(smoothed_21, 200, bins = 14, log_bins = True, dimensionless = True)"
   ]
  },
  {
   "cell_type": "code",
   "execution_count": 35,
   "metadata": {},
   "outputs": [],
   "source": [
    "d_ps_x, k = dimensional_ps(smoothed_lya, 200, bins = 14, log_bins = True, \n",
    "                           dimensionless = True, deltax2 = smoothed_21)"
   ]
  },
  {
   "cell_type": "code",
   "execution_count": 36,
   "metadata": {},
   "outputs": [],
   "source": [
    "ccc = np.load('ccc_7.2.npy')\n",
    "ks = np.load('ks.npy')"
   ]
  },
  {
   "cell_type": "code",
   "execution_count": 37,
   "metadata": {},
   "outputs": [
    {
     "data": {
      "image/png": "[encoded data removed]",
      "text/plain": [
       "<Figure size 720x432 with 1 Axes>"
      ]
     },
     "metadata": {
      "needs_background": "light"
     },
     "output_type": "display_data"
    }
   ],
   "source": [
    "plt.figure(figsize = (10,6))\n",
    "plt.scatter(k, d_ps_x / np.sqrt(d_ps_21 * d_ps), label = 'Smoothed')\n",
    "plt.scatter(ks, ccc, label = 'Unsmoothed')\n",
    "plt.xscale('log')\n",
    "plt.ylim([-1, 1])\n",
    "plt.show()"
   ]
  }
 ],
 "metadata": {
  "kernelspec": {
   "display_name": "Python 3",
   "language": "python",
   "name": "python3"
  },
  "language_info": {
   "codemirror_mode": {
    "name": "ipython",
    "version": 3
   },
   "file_extension": ".py",
   "mimetype": "text/x-python",
   "name": "python",
   "nbconvert_exporter": "python",
   "pygments_lexer": "ipython3",
   "version": "3.7.3"
  }
 },
 "nbformat": 4,
 "nbformat_minor": 2
}
