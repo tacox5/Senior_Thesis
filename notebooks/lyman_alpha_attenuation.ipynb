{
 "cells": [
  {
   "cell_type": "code",
   "execution_count": 1,
   "metadata": {},
   "outputs": [],
   "source": [
    "import numpy as np\n",
    "import matplotlib.pyplot as plt\n",
    "from astropy.cosmology import Planck15 as cosmo\n",
    "from astropy import constants as const\n",
    "from astropy import units as u\n",
    "from twentyonecmFAST import load_binary_data\n",
    "import tqdm"
   ]
  },
  {
   "cell_type": "code",
   "execution_count": 81,
   "metadata": {},
   "outputs": [],
   "source": [
    "def tau_s(z_s):\n",
    "    \"\"\"\n",
    "    \"\"\"\n",
    "    return 6.45e5 * (cosmo.Ob0 * cosmo.h / 0.03) * (cosmo.Om0 / 0.3) ** -0.5 * ((1 + z_s) / 10)\n",
    "\n",
    "def tau_lya(xH, z, z_reion = 6.):\n",
    "    z_obs = z + hand_wavy_redshift(z)\n",
    "    h_diff = (helper((1 + z) / (1 + z_obs)) - helper((1 + z_reion) / (1 + z_obs)))\n",
    "    return np.mean(xH) * tau_s(z) * (2.02e-8 / np.pi) * ((1 + z) / (1 + z_obs)) ** 1.5 * h_diff\n",
    "\n",
    "def hand_wavy_redshift(z, D = 6.6 * u.Mpc):\n",
    "    \"\"\"\n",
    "    \"\"\"\n",
    "    return (cosmo.H(z) * D / const.c).to(u.dimensionless_unscaled)\n",
    "\n",
    "def helper(x):\n",
    "    \"\"\"\n",
    "    \"\"\"\n",
    "    return (x ** 4.5 / (1. - x) + 9 / 7 * x ** 3.5 + \n",
    "            9. / 5. * x ** 2.5 + 3 * x ** 1.5 + 9 * x ** 0.5 - \n",
    "            4.5 * np.log((1 + x ** 0.5) / (1 - x ** 0.5)))"
   ]
  },
  {
   "cell_type": "code",
   "execution_count": 82,
   "metadata": {},
   "outputs": [],
   "source": [
    "xH = load_binary_data('../../data/xH_z008.06_nf0.553432_Fstar0.0500_starPL0.5000_Fesc0.1000_escPL-0.5000_Mturn5.00e+08_HIIfilter1_RHIImax50_256_200Mpc')\n",
    "xH = np.reshape(xH, (256, 256, 256))"
   ]
  },
  {
   "cell_type": "code",
   "execution_count": 84,
   "metadata": {},
   "outputs": [
    {
     "data": {
      "text/latex": [
       "$0.43049034 \\; \\mathrm{}$"
      ],
      "text/plain": [
       "<Quantity 0.43049034>"
      ]
     },
     "execution_count": 84,
     "metadata": {},
     "output_type": "execute_result"
    }
   ],
   "source": [
    "np.exp(-tau_lya(0.55, 8.06))"
   ]
  },
  {
   "cell_type": "code",
   "execution_count": 47,
   "metadata": {},
   "outputs": [
    {
     "data": {
      "text/plain": [
       "0.23358437"
      ]
     },
     "execution_count": 47,
     "metadata": {},
     "output_type": "execute_result"
    }
   ],
   "source": [
    "xH.mean()"
   ]
  },
  {
   "cell_type": "code",
   "execution_count": 28,
   "metadata": {},
   "outputs": [
    {
     "data": {
      "text/latex": [
       "$0.004971039 \\; \\mathrm{}$"
      ],
      "text/plain": [
       "<Quantity 0.00497104>"
      ]
     },
     "execution_count": 28,
     "metadata": {},
     "output_type": "execute_result"
    }
   ],
   "source": [
    "hand_wavy_redshift(7.)"
   ]
  },
  {
   "cell_type": "code",
   "execution_count": 3,
   "metadata": {},
   "outputs": [],
   "source": [
    "halos = np.loadtxt('../../data/halos_z8.')\n",
    "halo_pos = (halos[:, 1:] * 256).astype(int)"
   ]
  },
  {
   "cell_type": "code",
   "execution_count": 46,
   "metadata": {},
   "outputs": [],
   "source": [
    "xH = load_binary_data('../../data/xH_z007.04_nf0.233584_Fstar0.0500_starPL0.5000_Fesc0.1000_escPL-0.5000_Mturn5.00e+08_HIIfilter1_RHIImax50_256_200Mpc')\n",
    "xH = np.reshape(xH, (256, 256, 256))"
   ]
  },
  {
   "cell_type": "code",
   "execution_count": 10,
   "metadata": {},
   "outputs": [],
   "source": [
    "def bubble_size(pos, xH):\n",
    "    \"\"\"Return the ionized bubble size in voxels\n",
    "    Parameters:\n",
    "    ----------\n",
    "    \n",
    "    pos : tuple, np.array\n",
    "        LAE halo positions\n",
    "        \n",
    "    xH : np.array\n",
    "        Neutral fraction cube\n",
    "        \n",
    "    \"\"\"\n",
    "    try:\n",
    "        return np.abs(pos[2] - np.array(np.nonzero(xH[pos[0], pos[1], ]))).min()\n",
    "    \n",
    "    except:\n",
    "        return -1"
   ]
  },
  {
   "cell_type": "code",
   "execution_count": 11,
   "metadata": {
    "scrolled": true
   },
   "outputs": [
    {
     "name": "stderr",
     "output_type": "stream",
     "text": [
      "Calculating Mean Bubble Size: 100%|██████████| 3744755/3744755 [02:06<00:00, 29551.64halo/s]\n"
     ]
    }
   ],
   "source": [
    "pix = 0\n",
    "count = 0\n",
    "mean = []\n",
    "\n",
    "for i in tqdm.tqdm(range(halo_pos.shape[0]),\n",
    "                   desc=\"Calculating Mean Bubble Size\",\n",
    "                   unit=\"halo\",\n",
    "                   total=halo_pos.shape[0]):\n",
    "    # \n",
    "    size = bubble_size(halo_pos[i, :], xH)\n",
    "    if size > 0:\n",
    "        pix += bubble_size(halo_pos[i, :], xH)\n",
    "        count += 1        "
   ]
  },
  {
   "cell_type": "code",
   "execution_count": 16,
   "metadata": {},
   "outputs": [
    {
     "data": {
      "image/png": "[encoded data removed]",
      "text/plain": [
       "<Figure size 720x432 with 1 Axes>"
      ]
     },
     "metadata": {
      "needs_background": "light"
     },
     "output_type": "display_data"
    }
   ],
   "source": [
    "plt.figure(figsize = (10, 6))\n",
    "plt.plot(np.array(mean))\n",
    "plt.ylim([24, 35])\n",
    "plt.show()"
   ]
  },
  {
   "cell_type": "code",
   "execution_count": 17,
   "metadata": {},
   "outputs": [
    {
     "data": {
      "text/plain": [
       "24.14861832412079"
      ]
     },
     "execution_count": 17,
     "metadata": {},
     "output_type": "execute_result"
    }
   ],
   "source": [
    "pix / count * 200. / 256."
   ]
  },
  {
   "cell_type": "code",
   "execution_count": 86,
   "metadata": {},
   "outputs": [
    {
     "data": {
      "text/latex": [
       "$0.94598537 \\; \\mathrm{}$"
      ],
      "text/plain": [
       "<Quantity 0.94598537>"
      ]
     },
     "execution_count": 86,
     "metadata": {},
     "output_type": "execute_result"
    }
   ],
   "source": [
    "np.exp(-tau_lya(0.1, z = 6.2))"
   ]
  },
  {
   "cell_type": "code",
   "execution_count": 23,
   "metadata": {},
   "outputs": [
    {
     "data": {
      "text/plain": [
       "629217.0731360018"
      ]
     },
     "execution_count": 23,
     "metadata": {},
     "output_type": "execute_result"
    }
   ],
   "source": [
    "tau_s(z)"
   ]
  },
  {
   "cell_type": "code",
   "execution_count": 39,
   "metadata": {},
   "outputs": [],
   "source": [
    "x = np.linspace(0, 0.99, 100)\n",
    "y = helper(x)"
   ]
  },
  {
   "cell_type": "code",
   "execution_count": 42,
   "metadata": {},
   "outputs": [
    {
     "data": {
      "image/png": "[encoded data removed]",
      "text/plain": [
       "<Figure size 720x432 with 1 Axes>"
      ]
     },
     "metadata": {
      "needs_background": "light"
     },
     "output_type": "display_data"
    }
   ],
   "source": [
    "plt.figure(figsize=(10,6))\n",
    "plt.plot(x, y)\n",
    "plt.yscale('log')\n",
    "plt.show()"
   ]
  },
  {
   "cell_type": "code",
   "execution_count": null,
   "metadata": {},
   "outputs": [],
   "source": []
  }
 ],
 "metadata": {
  "kernelspec": {
   "display_name": "Python 3",
   "language": "python",
   "name": "python3"
  },
  "language_info": {
   "codemirror_mode": {
    "name": "ipython",
    "version": 3
   },
   "file_extension": ".py",
   "mimetype": "text/x-python",
   "name": "python",
   "nbconvert_exporter": "python",
   "pygments_lexer": "ipython3",
   "version": "3.7.3"
  }
 },
 "nbformat": 4,
 "nbformat_minor": 2
}
